{
 "cells": [
  {
   "cell_type": "markdown",
   "metadata": {},
   "source": [
    "### Checklist for submission\n",
    "\n",
    "It is extremely important to make sure that:\n",
    "\n",
    "1. Everything runs as expected (no bugs when running cells);\n",
    "2. The output from each cell corresponds to its code (don't change any cell's contents without rerunning it afterwards);\n",
    "3. All outputs are present (don't delete any of the outputs);\n",
    "4. Fill in all the places that say `YOUR CODE HERE`, or \"**Your answer:** (fill in here)\".\n",
    "5. You **ONLY** change the parts of the code we asked you to, nowhere else (change only the coding parts saying `# YOUR CODE HERE`, nothing else);\n",
    "6. Don't add any new cells to this notebook;\n",
    "7. Fill in your group number and the full names of the members in the cell below;\n",
    "8. Make sure that you are not running an old version of IPython (we provide you with a cell that checks this, make sure you can run it without errors).\n",
    "\n",
    "Failing to meet any of these requirements might lead to either a subtraction of POEs (at best) or a request for resubmission (at worst).\n",
    "\n",
    "We advise you the following steps before submission for ensuring that requirements 1, 2, and 3 are always met: **Restart the kernel** (in the menubar, select Kernel$\\rightarrow$Restart) and then **run all cells** (in the menubar, select Cell$\\rightarrow$Run All). This might require a bit of time, so plan ahead for this (and possibly use Google Cloud's GPU in HA1 and HA2 for this step). Finally press the \"Save and Checkout\" button before handing in, to make sure that all your changes are saved to this .ipynb file."
   ]
  },
  {
   "cell_type": "markdown",
   "metadata": {},
   "source": [
    "---\n",
    "\n",
    "Group number and member names:"
   ]
  },
  {
   "cell_type": "code",
   "execution_count": 1,
   "metadata": {},
   "outputs": [],
   "source": [
    "GROUP = \"62\"\n",
    "NAME1 = \"Dimitrios Karypidis\"\n",
    "NAME2 = \"Kevin Jaquier\""
   ]
  },
  {
   "cell_type": "markdown",
   "metadata": {},
   "source": [
    "Make sure you can run the following cell without errors."
   ]
  },
  {
   "cell_type": "code",
   "execution_count": 2,
   "metadata": {},
   "outputs": [],
   "source": [
    "import IPython\n",
    "assert IPython.version_info[0] >= 3, \"Your version of IPython is too old, please update it.\""
   ]
  },
  {
   "cell_type": "markdown",
   "metadata": {},
   "source": [
    "---"
   ]
  },
  {
   "cell_type": "markdown",
   "metadata": {
    "deletable": false,
    "editable": false,
    "nbgrader": {
     "checksum": "f0dd7cbad727dec0308b03071cff6d79",
     "grade": false,
     "grade_id": "cell-8092c3fd452a3245",
     "locked": true,
     "schema_version": 1,
     "solution": false
    }
   },
   "source": [
    "# HA1 - Cats and dogs"
   ]
  },
  {
   "cell_type": "markdown",
   "metadata": {
    "deletable": false,
    "editable": false,
    "nbgrader": {
     "checksum": "87ccf483a45725dd262468c44d2acbae",
     "grade": false,
     "grade_id": "cell-0235e816fc98b0f6",
     "locked": true,
     "schema_version": 1,
     "solution": false
    }
   },
   "source": [
    "<img src=\"http://lghttp.32478.nexcesscdn.net/80E972/organiclifestylemagazine/wp-content/uploads/2015/10/Cats-and-Dogs.jpg\" alt=\"Cats and dogs\" style=\"width: 5000px;\"/>"
   ]
  },
  {
   "cell_type": "markdown",
   "metadata": {
    "deletable": false,
    "editable": false,
    "nbgrader": {
     "checksum": "e42d5a9a7b415bb217a6b890b6f07c84",
     "grade": false,
     "grade_id": "cell-c4bb694612153106",
     "locked": true,
     "schema_version": 1,
     "solution": false
    }
   },
   "source": [
    "For this home assignment, we'll use the Kaggle dataset for the [Dogs vs. Cats competition](https://www.kaggle.com/c/dogs-vs-cats). It is comprised of 25k colored images of dogs and cats. Our goal with this dataset will be to create a classifier that can tell us if the input image is of a cat or a dog."
   ]
  },
  {
   "cell_type": "markdown",
   "metadata": {},
   "source": [
    "As a way of helping you speed up the training process, each group gets 6 hours of access to an instance in Google Cloud with a K80 GPU. Take a look at the [Instructions folder](https://github.com/JulianoLagana/deep-machine-learning/tree/master/Instructions) to understand how to connect to this instance and use our tools there. You're free to use this resource as you see fit, but if you run out of hours you'll need a late day to obtain more (and you can only do this once).\n",
    "\n",
    "In order to make the most out of your GPU hours, first try solving the initial part of this notebook (tasks 0-4) in your own computer (these tasks can be solved only on the CPU), and leave most of the available hours for solving tasks 5-6, and refining your best model further (and, if you have the spare hours, experiment a bit!)."
   ]
  },
  {
   "cell_type": "markdown",
   "metadata": {
    "deletable": false,
    "editable": false,
    "nbgrader": {
     "checksum": "ba437754e558ff25301e1526ca957f4b",
     "grade": false,
     "grade_id": "cell-f7371c24b57c153e",
     "locked": true,
     "schema_version": 1,
     "solution": false
    }
   },
   "source": [
    "Requirements:\n",
    "- Whenever we ask you to plot anything, be sure to add a title and label the axes. If you're plotting more than one curve in the same plot, also add a legend.\n",
    "- When we ask you to train an architecture, train it for a reasonable number of epochs. \"Reasonable\" here means you should be fairly confident that training for a higher number of epochs wouldn't impact your conclusions regarding the model's performance.\n",
    "\n",
    "Tips:\n",
    "- If you get errors saying you've exhausted the GPU resources, well, then you exhausted the GPU resources ;). However, sometimes that's because TensorFlow didn't release a part of the GPU's memory. If you think your CNN should fit in your memory during training, try restarting the kernel and directly training only that architecture.\n",
    "- Every group has enough credits on google cloud to complete this assignment. However, this statement assumes you'll use your resources judiciously (e.g. always try the code first in your machine and make sure everything works properly before starting your instances) and **won't forget to stop your instance after using it,**  otherwise you might run out of credits.\n",
    "- Before starting, take a look at the images we'll be using. This is a hard task, don't get discouraged if your first models perform poorly (several participants in the original competition didn't achieve an accuracy higher than 60%)."
   ]
  },
  {
   "cell_type": "markdown",
   "metadata": {
    "deletable": false,
    "editable": false,
    "nbgrader": {
     "checksum": "9f50e27a30d83bcebeb52a8ae43228e2",
     "grade": false,
     "grade_id": "cell-3ee6d24346a80d85",
     "locked": true,
     "schema_version": 1,
     "solution": false
    }
   },
   "source": [
    "---\n",
    "## 0. Imports\n",
    "\n",
    "In the following cell, add all the imports you'll use in this assignment."
   ]
  },
  {
   "cell_type": "code",
   "execution_count": 45,
   "metadata": {
    "deletable": false,
    "nbgrader": {
     "checksum": "0075c816ac7a24f2287d6fa9b8a81565",
     "grade": true,
     "grade_id": "cell-464a08ede00083a4",
     "locked": false,
     "points": 0,
     "schema_version": 1,
     "solution": true
    }
   },
   "outputs": [],
   "source": [
    "# Packages for defining the architecture of our model\n",
    "from keras.models import Sequential, Model, load_model\n",
    "from keras.layers import Activation, Dense, Flatten, BatchNormalization, Dropout, Input\n",
    "from keras.layers.convolutional import Conv2D, MaxPooling2D\n",
    "from keras.preprocessing.image import ImageDataGenerator\n",
    "from keras.preprocessing import image\n",
    "from keras import regularizers\n",
    "from keras.optimizers import Adam\n",
    "# One-hot encoding\n",
    "from keras.utils import np_utils\n",
    "\n",
    "# Callbacks for training\n",
    "from keras.callbacks import TensorBoard, EarlyStopping\n",
    "\n",
    "from keras.applications import vgg16\n",
    "\n",
    "# Ploting\n",
    "import matplotlib.pyplot as plt\n",
    "%matplotlib inline\n",
    "\n",
    "# Ndarray computations\n",
    "import numpy as np\n",
    "\n",
    "# Confusion matrix for assessment step\n",
    "from sklearn.metrics import confusion_matrix\n",
    "\n",
    "#Seaborn plotting tools\n",
    "import seaborn as sns\n",
    "\n",
    "# Other utilities\n",
    "import os\n",
    "from itertools import islice\n",
    "import pandas as pd\n",
    "from datetime import datetime as dt\n",
    "\n",
    "plt.rcParams['figure.figsize'] = 16,6\n",
    "sns.set(rc={'figure.figsize':(16,6)})\n",
    "sns.set(font_scale=1.3)"
   ]
  },
  {
   "cell_type": "markdown",
   "metadata": {
    "deletable": false,
    "editable": false,
    "nbgrader": {
     "checksum": "49bf801d5ced99ccf6f0c5cd12100230",
     "grade": false,
     "grade_id": "cell-4821dc273028d702",
     "locked": true,
     "schema_version": 1,
     "solution": false
    }
   },
   "source": [
    "---\n",
    "## 1. Loading the data and preprocessing"
   ]
  },
  {
   "cell_type": "markdown",
   "metadata": {
    "deletable": false,
    "editable": false,
    "nbgrader": {
     "checksum": "d1d586c0063030cd1a3b04fe87e189f0",
     "grade": false,
     "grade_id": "cell-2ea049dea4713494",
     "locked": true,
     "schema_version": 1,
     "solution": false
    }
   },
   "source": [
    "The first step is to head to the [Kaggle website for the cats and dogs competition](https://www.kaggle.com/c/dogs-vs-cats) and download the data from there. You should download both the test and train folders together in one zip file (by clicking the download all button). The split ratio between training and validation has not been made, you'll need to do it yourself. The `test.zip` file contains unlabeled data, so that participants in the contest are not able to train on this set.\n",
    "\n",
    "For this assignment you should use [data generators](https://keras.io/preprocessing/image/) to load the images to your CPU/GPU memory. Because of this, your folder structure for the data should conform to the folder structure expected by the data generators (i.e. the samples should be separated into one folder for each class). Furthermore, we ask you to first start with a smaller subset of the data (1/5 of the number of samples), in order to test different models faster.\n",
    "\n",
    "This means that you should create a folder structure that resembles the following (obviously, the folder names are up to you):\n",
    "\n",
    "\n",
    "         small_train             small_val                train                   val\n",
    "              |                      |                      |                      |\n",
    "              |                      |                      |                      |\n",
    "        -------------          -------------          -------------          -------------\n",
    "        |           |          |           |          |           |          |           |\n",
    "        |           |          |           |          |           |          |           |\n",
    "      Cats        Dogs       Cats        Dogs       Cats        Dogs       Cats        Dogs\n",
    "\n",
    "The `small_train` and `small_val` folders have the training and validation samples for your smaller subset of the data, while the `train` and `val` folders contain all the samples you extracted from Kaggle's `train.zip`. We provide you a notebook that shows how to achieve this (\"Create project structure.ipynb\"), starting from the original `all.zip` file that you download from Kaggle. If you do use that notebook, we encourage you to understand how each step is being done, so you can generalize this knowledge to new datasets you'll encounter.\n",
    "\n",
    "We advise you to use 30% of the data as validation data in the smaller dataset. However, for the larger dataset, you should decide how to split between training and validation. Please specify your splits in the following cells."
   ]
  },
  {
   "cell_type": "markdown",
   "metadata": {
    "deletable": false,
    "editable": false,
    "nbgrader": {
     "checksum": "21f8c413dbd2a629e479abc65e02c1a1",
     "grade": false,
     "grade_id": "cell-89ba19509b952af2",
     "locked": true,
     "schema_version": 1,
     "solution": false
    }
   },
   "source": [
    "For the larger subset, what was the training/validation split that you decided to use?"
   ]
  },
  {
   "cell_type": "markdown",
   "metadata": {
    "deletable": false,
    "editable": false,
    "nbgrader": {
     "checksum": "b5740099dceee0e312b1711006e99c1f",
     "grade": false,
     "grade_id": "cell-b0efa9a80e35cb50",
     "locked": true,
     "schema_version": 1,
     "solution": false
    }
   },
   "source": [
    "**% Samples in the training set:**"
   ]
  },
  {
   "cell_type": "code",
   "execution_count": 4,
   "metadata": {
    "deletable": false,
    "nbgrader": {
     "checksum": "0345d9abbe8e41a3d79a43e58cf61bbd",
     "grade": true,
     "grade_id": "cell-7f3b0dfbd90a14c1",
     "locked": false,
     "points": 0.25,
     "schema_version": 1,
     "solution": true
    }
   },
   "outputs": [],
   "source": [
    "n_train = 11875 + 11875"
   ]
  },
  {
   "cell_type": "markdown",
   "metadata": {
    "deletable": false,
    "editable": false,
    "nbgrader": {
     "checksum": "2ddce1febefd28de63c23277971779d3",
     "grade": false,
     "grade_id": "cell-c23e59a345aa4071",
     "locked": true,
     "schema_version": 1,
     "solution": false
    }
   },
   "source": [
    "**% Samples in the validation set:**"
   ]
  },
  {
   "cell_type": "code",
   "execution_count": 5,
   "metadata": {
    "deletable": false,
    "nbgrader": {
     "checksum": "b8cd8215973c0496aaed775aa00d9052",
     "grade": true,
     "grade_id": "cell-515a15da68038afe",
     "locked": false,
     "points": 0.25,
     "schema_version": 1,
     "solution": true
    }
   },
   "outputs": [],
   "source": [
    "n_val = 625 + 625"
   ]
  },
  {
   "cell_type": "markdown",
   "metadata": {
    "deletable": false,
    "editable": false,
    "nbgrader": {
     "checksum": "f907f0a06aa01c1087ab6e18710c2fbe",
     "grade": false,
     "grade_id": "cell-876ca7df88c9311f",
     "locked": true,
     "schema_version": 1,
     "solution": false
    }
   },
   "source": [
    "Fill in the dataset paths (to be used later by your data generators):"
   ]
  },
  {
   "cell_type": "code",
   "execution_count": 6,
   "metadata": {
    "deletable": false,
    "nbgrader": {
     "checksum": "99224aa0ced417acf27d271313ab4ca2",
     "grade": true,
     "grade_id": "cell-1b1314f2ab1b1d6b",
     "locked": false,
     "points": 0,
     "schema_version": 1,
     "solution": true
    }
   },
   "outputs": [],
   "source": [
    "train_data_path = './train'\n",
    "val_data_path = './val'\n",
    "train_data_path_small = './small_train'\n",
    "val_data_path_small = './small_val'"
   ]
  },
  {
   "cell_type": "markdown",
   "metadata": {
    "deletable": false,
    "editable": false,
    "nbgrader": {
     "checksum": "b5cab872fd6c9d35842bc8b3708e1b7c",
     "grade": false,
     "grade_id": "cell-1d6ea64bca94a4ef",
     "locked": true,
     "schema_version": 1,
     "solution": false
    }
   },
   "source": [
    "---\n",
    "Once you have the expected folder structure, create two data generators for automatically generating batches from the images in your smaller subset of data. Don't use any [data augmentation](https://cartesianfaith.com/2016/10/06/what-you-need-to-know-about-data-augmentation-for-machine-learning/), but feel free to preprocess the data as you see fit. After instantiating them, run the `flow_from_directory` method with the desired arguments.\n",
    "\n",
    "Hints:\n",
    "- The specified `batch_size` should be chosen so that your don't run out of memory.\n",
    "- When feeding the images to your CNN, you'll probably want all of them to have the same spatial size, even though the .jpeg files differ in this. If so, take a look at the argument `target_size` for the `flow_from_directory` method of data generators.\n",
    "- Resizing the images to a smaller size while loading them can be beneficial."
   ]
  },
  {
   "cell_type": "code",
   "execution_count": 7,
   "metadata": {
    "deletable": false,
    "nbgrader": {
     "checksum": "ccd3d3780bee365018f2a96b8022d56b",
     "grade": true,
     "grade_id": "cell-ed8f5ab8d5cc0d6c",
     "locked": false,
     "points": 1.5,
     "schema_version": 1,
     "solution": true
    }
   },
   "outputs": [
    {
     "name": "stdout",
     "output_type": "stream",
     "text": [
      "Found 3500 images belonging to 2 classes.\n",
      "Found 1500 images belonging to 2 classes.\n"
     ]
    }
   ],
   "source": [
    "batch_size = 16\n",
    "\n",
    "img_size = (100, 100)\n",
    "img_w, img_h = img_size\n",
    "rescale_factor = 1./255\n",
    "\n",
    "datagen = ImageDataGenerator(\n",
    "    rescale=rescale_factor,\n",
    ")\n",
    "\n",
    "def get_data_generator(data_path):\n",
    "    return datagen.flow_from_directory(\n",
    "            data_path,\n",
    "            target_size=img_size,\n",
    "            batch_size=batch_size,\n",
    "            class_mode=\"binary\",\n",
    "            seed=42)\n",
    "\n",
    "train_generator = get_data_generator(train_data_path_small)\n",
    "val_generator = get_data_generator(val_data_path_small)\n"
   ]
  },
  {
   "cell_type": "markdown",
   "metadata": {
    "deletable": false,
    "editable": false,
    "nbgrader": {
     "checksum": "9e39d5fb0e38a44e07a4519f4db98583",
     "grade": false,
     "grade_id": "cell-c0bfc1ac7fadfcc7",
     "locked": true,
     "schema_version": 1,
     "solution": false
    }
   },
   "source": [
    "---\n",
    "## 2. Training"
   ]
  },
  {
   "cell_type": "markdown",
   "metadata": {
    "deletable": false,
    "editable": false,
    "nbgrader": {
     "checksum": "41dd6aa5a0bc2a35b880c6e72db8e130",
     "grade": false,
     "grade_id": "cell-2c2425121bcacf34",
     "locked": true,
     "schema_version": 1,
     "solution": false
    }
   },
   "source": [
    "Create your first CNN architecture for this task. Start with something as simple as possible, that you're almost sure can get an accuracy better than 50% (we'll improve upon it later).\n",
    "\n",
    "Tip:\n",
    "- If Tensorflow is your backend, your `input_shape` is always `(img_width, img_height, 3)` (i.e. channels **last**)"
   ]
  },
  {
   "cell_type": "code",
   "execution_count": 8,
   "metadata": {
    "deletable": false,
    "nbgrader": {
     "checksum": "d2c30c88e647d05bd81604c1339a68e7",
     "grade": true,
     "grade_id": "cell-4c9de348cd8bc4ff",
     "locked": false,
     "points": 2,
     "schema_version": 1,
     "solution": true
    }
   },
   "outputs": [],
   "source": [
    "num_classes = 2\n",
    "\n",
    "def initial_model():   \n",
    "    model = Sequential()\n",
    "    model.add(Conv2D(30, (5, 5), input_shape=(img_w, img_h, 3), activation='relu'))\n",
    "    model.add(BatchNormalization())\n",
    "    model.add(MaxPooling2D(pool_size=(2, 2)))\n",
    "    model.add(Flatten())\n",
    "    model.add(Dense(50, activation='relu'))\n",
    "    model.add(Dense(1, activation='sigmoid'))\n",
    "    model.compile(loss='binary_crossentropy', optimizer='adam', metrics=['accuracy'])\n",
    "    return model"
   ]
  },
  {
   "cell_type": "markdown",
   "metadata": {
    "deletable": false,
    "editable": false,
    "nbgrader": {
     "checksum": "5210173277189c7bc5d5c18621a1ef8c",
     "grade": false,
     "grade_id": "cell-cb6fc78116ad6b75",
     "locked": true,
     "schema_version": 1,
     "solution": false
    }
   },
   "source": [
    "Train your model using the `fit_generator` method and the two data generators you created earlier. Train for a reasonable amount of epochs, so as to get a good sense of how well this architecture performs.\n",
    "\n",
    "Tips:\n",
    "- Usually the bottleneck is when loading the images from the disk. To speed up training, make sure to take a look at the arguments `workers` and `use_multiprocessing` of `fit_generator`.\n",
    "- You don't have to set the argument `steps_per_epoch` to the number of batches in an epoch. Instead, you can choose a lower number to obtain more frequent prints about the current loss and accuracy of your model (but then have in mind that you're not actually training for the number of epochs you specify in `epochs`)."
   ]
  },
  {
   "cell_type": "code",
   "execution_count": 9,
   "metadata": {
    "deletable": false,
    "nbgrader": {
     "checksum": "865326597e6d487caaaa64ba30cf1abe",
     "grade": true,
     "grade_id": "cell-bb1fcd878f3bea9a",
     "locked": false,
     "points": 1,
     "schema_version": 1,
     "solution": true
    }
   },
   "outputs": [
    {
     "name": "stdout",
     "output_type": "stream",
     "text": [
      "Epoch 1/20\n",
      "218/218 [==============================] - 8s 37ms/step - loss: 1.1594 - acc: 0.5837 - val_loss: 0.7540 - val_acc: 0.5260\n",
      "Epoch 2/20\n",
      "218/218 [==============================] - 7s 32ms/step - loss: 0.5875 - acc: 0.6866 - val_loss: 0.6792 - val_acc: 0.6380\n",
      "Epoch 3/20\n",
      "218/218 [==============================] - 7s 32ms/step - loss: 0.4517 - acc: 0.7814 - val_loss: 2.5707 - val_acc: 0.5147\n",
      "Epoch 4/20\n",
      "218/218 [==============================] - 7s 32ms/step - loss: 0.3056 - acc: 0.8696 - val_loss: 1.1105 - val_acc: 0.5967\n",
      "Epoch 5/20\n",
      "218/218 [==============================] - 7s 32ms/step - loss: 0.1722 - acc: 0.9302 - val_loss: 1.1795 - val_acc: 0.6307\n",
      "Epoch 6/20\n",
      "218/218 [==============================] - 7s 32ms/step - loss: 0.1178 - acc: 0.9540 - val_loss: 1.4514 - val_acc: 0.6487\n",
      "Epoch 7/20\n",
      "218/218 [==============================] - 7s 32ms/step - loss: 0.2813 - acc: 0.9455 - val_loss: 5.4877 - val_acc: 0.5187\n",
      "Epoch 8/20\n",
      "218/218 [==============================] - 7s 32ms/step - loss: 0.4461 - acc: 0.8106 - val_loss: 7.9607 - val_acc: 0.5007\n",
      "Epoch 9/20\n",
      "218/218 [==============================] - 7s 32ms/step - loss: 0.1719 - acc: 0.9298 - val_loss: 1.1276 - val_acc: 0.6640\n",
      "Epoch 10/20\n",
      "218/218 [==============================] - 7s 32ms/step - loss: 0.0873 - acc: 0.9699 - val_loss: 1.6520 - val_acc: 0.6420\n",
      "Epoch 11/20\n",
      "218/218 [==============================] - 7s 32ms/step - loss: 0.0525 - acc: 0.9781 - val_loss: 1.7499 - val_acc: 0.6440\n",
      "Epoch 12/20\n",
      "218/218 [==============================] - 7s 32ms/step - loss: 0.0308 - acc: 0.9911 - val_loss: 1.9683 - val_acc: 0.6540\n",
      "Epoch 13/20\n",
      "218/218 [==============================] - 7s 32ms/step - loss: 0.0196 - acc: 0.9946 - val_loss: 1.9366 - val_acc: 0.6767\n",
      "Epoch 14/20\n",
      "218/218 [==============================] - 7s 32ms/step - loss: 0.0238 - acc: 0.9943 - val_loss: 2.1282 - val_acc: 0.6447\n",
      "Epoch 15/20\n",
      "218/218 [==============================] - 7s 32ms/step - loss: 0.0673 - acc: 0.9787 - val_loss: 2.5074 - val_acc: 0.6320\n",
      "Epoch 16/20\n",
      "218/218 [==============================] - 7s 33ms/step - loss: 0.0469 - acc: 0.9834 - val_loss: 2.4499 - val_acc: 0.6220\n",
      "Epoch 17/20\n",
      "218/218 [==============================] - 7s 32ms/step - loss: 0.0886 - acc: 0.9696 - val_loss: 2.2547 - val_acc: 0.6653\n",
      "Epoch 18/20\n",
      "218/218 [==============================] - 7s 32ms/step - loss: 0.0231 - acc: 0.9920 - val_loss: 2.3325 - val_acc: 0.6427\n",
      "Epoch 19/20\n",
      "218/218 [==============================] - 7s 32ms/step - loss: 0.0057 - acc: 0.9989 - val_loss: 2.2215 - val_acc: 0.6500\n",
      "Epoch 20/20\n",
      "218/218 [==============================] - 7s 33ms/step - loss: 0.0030 - acc: 0.9991 - val_loss: 2.2771 - val_acc: 0.6540\n"
     ]
    }
   ],
   "source": [
    "model = initial_model()\n",
    "\n",
    "history = model.fit_generator(train_generator, epochs=20, verbose=1,\n",
    "                              validation_data=val_generator,\n",
    "                              validation_steps=1500// batch_size,\n",
    "                              steps_per_epoch =3500// batch_size,\n",
    "                              workers=8, use_multiprocessing=True, \n",
    "                              shuffle=True\n",
    "                             )"
   ]
  },
  {
   "cell_type": "markdown",
   "metadata": {
    "deletable": false,
    "editable": false,
    "nbgrader": {
     "checksum": "2f494d53c5c891008921b85679b9aaa7",
     "grade": false,
     "grade_id": "cell-4d42c86687697a67",
     "locked": true,
     "schema_version": 1,
     "solution": false
    }
   },
   "source": [
    "Create one figure with two axes. In one of them, plot the loss in the training and the validation datasets. In the other one, plot the accuracy in the training and validation datasets.\n",
    "\n",
    "Hint:\n",
    "- The `fit_generator` method returns a `history` object."
   ]
  },
  {
   "cell_type": "code",
   "execution_count": 10,
   "metadata": {
    "deletable": false,
    "nbgrader": {
     "checksum": "e71729e832321272983178b41b90f874",
     "grade": true,
     "grade_id": "cell-fa81712e1e27432a",
     "locked": false,
     "points": 0,
     "schema_version": 1,
     "solution": true
    }
   },
   "outputs": [
    {
     "data": {
      "image/png": "[encoded data removed]",
      "text/plain": [
       "<Figure size 1152x432 with 2 Axes>"
      ]
     },
     "metadata": {},
     "output_type": "display_data"
    }
   ],
   "source": [
    "plt.rcParams['figure.figsize'] = 16,6\n",
    "def plot_history(ax, history, ylabel, metrics, title=None):\n",
    "    metrics_items = metrics.items()\n",
    "    for _label, metric in metrics_items:\n",
    "        ax.plot(history.history[metric], '-o')\n",
    "    ax.set_ylabel(ylabel)\n",
    "    ax.set_xlabel('Epoch')\n",
    "    if title:\n",
    "        ax.title.set_text(title)\n",
    "    ax.legend([label for label, _metric in metrics_items])\n",
    "\n",
    "\n",
    "f, (ax1, ax2) = plt.subplots(1, 2)\n",
    "f.suptitle('Training performance (initial)')\n",
    "plot_history(ax1, history, 'Loss', {'Training': 'loss', 'Validation': 'val_loss'})\n",
    "plot_history(ax2, history, 'Accuracy', {'Training': 'acc', 'Validation': 'val_acc'})\n",
    "\n",
    "plt.show()"
   ]
  },
  {
   "cell_type": "markdown",
   "metadata": {
    "deletable": false,
    "editable": false,
    "nbgrader": {
     "checksum": "5797f9d2d079b67832722cebe8cff0ef",
     "grade": false,
     "grade_id": "cell-f2fc166890962bcf",
     "locked": true,
     "schema_version": 1,
     "solution": false
    }
   },
   "source": [
    "Based on these, what would you suggest for improving your model? Why?"
   ]
  },
  {
   "cell_type": "markdown",
   "metadata": {
    "deletable": false,
    "nbgrader": {
     "checksum": "cf197ef63bfa3aee62055bd8ed8f7a1c",
     "grade": true,
     "grade_id": "cell-506e21ce469b67f5",
     "locked": false,
     "points": 1,
     "schema_version": 1,
     "solution": true
    }
   },
   "source": [
    "**Your answer:** We can see the network starts overfitting quite early on. "
   ]
  },
  {
   "cell_type": "markdown",
   "metadata": {
    "deletable": false,
    "editable": false,
    "nbgrader": {
     "checksum": "0be49b9a95620540a192e413f70f71c5",
     "grade": false,
     "grade_id": "cell-db018000a5382694",
     "locked": true,
     "schema_version": 1,
     "solution": false
    }
   },
   "source": [
    "---\n",
    "## 3. Improving your initial model"
   ]
  },
  {
   "cell_type": "markdown",
   "metadata": {
    "deletable": false,
    "editable": false,
    "nbgrader": {
     "checksum": "52b66a6d63b9dd6f55f0dfd477b84597",
     "grade": false,
     "grade_id": "cell-fa0e4d84ef7af322",
     "locked": true,
     "schema_version": 1,
     "solution": false
    }
   },
   "source": [
    "Improve your initial model according to you answer above. Write the new definition in the cell below and train it."
   ]
  },
  {
   "cell_type": "code",
   "execution_count": 11,
   "metadata": {
    "deletable": false,
    "nbgrader": {
     "checksum": "a0b92d3cd986908779f53ff2b6fac22f",
     "grade": true,
     "grade_id": "cell-a4a3c7da2ad8161b",
     "locked": false,
     "points": 2,
     "schema_version": 1,
     "solution": true
    }
   },
   "outputs": [
    {
     "name": "stdout",
     "output_type": "stream",
     "text": [
      "Found 3500 images belonging to 2 classes.\n",
      "Found 1500 images belonging to 2 classes.\n",
      "Epoch 1/20\n",
      "437/437 [==============================] - 7s 17ms/step - loss: 0.6862 - acc: 0.5701 - val_loss: 0.6268 - val_acc: 0.6480\n",
      "Epoch 2/20\n",
      "  1/437 [..............................] - ETA: 4s - loss: 0.6987 - acc: 0.6250Epoch 1/20\n",
      "437/437 [==============================] - 7s 17ms/step - loss: 0.6249 - acc: 0.6576 - val_loss: 0.6290 - val_acc: 0.6587\n",
      "Epoch 3/20\n",
      "437/437 [==============================] - 8s 17ms/step - loss: 0.5759 - acc: 0.7057 - val_loss: 0.5629 - val_acc: 0.7040\n",
      "Epoch 4/20\n",
      "437/437 [==============================] - 8s 17ms/step - loss: 0.5429 - acc: 0.7343 - val_loss: 0.5192 - val_acc: 0.7340\n",
      "Epoch 5/20\n",
      "437/437 [==============================] - 8s 18ms/step - loss: 0.5045 - acc: 0.7623 - val_loss: 0.5135 - val_acc: 0.7373\n",
      "Epoch 6/20\n",
      "437/437 [==============================] - 8s 18ms/step - loss: 0.4763 - acc: 0.7826 - val_loss: 0.5318 - val_acc: 0.7387\n",
      "Epoch 7/20\n",
      "437/437 [==============================] - 8s 18ms/step - loss: 0.4371 - acc: 0.8106 - val_loss: 0.5509 - val_acc: 0.7453\n",
      "Epoch 8/20\n",
      "437/437 [==============================] - 8s 18ms/step - loss: 0.4223 - acc: 0.8241 - val_loss: 0.5159 - val_acc: 0.7493\n",
      "Epoch 9/20\n",
      "437/437 [==============================] - 8s 18ms/step - loss: 0.3816 - acc: 0.8372 - val_loss: 0.5779 - val_acc: 0.7367\n",
      "Epoch 10/20\n",
      "437/437 [==============================] - 8s 18ms/step - loss: 0.3725 - acc: 0.8493 - val_loss: 0.5849 - val_acc: 0.7573\n",
      "Epoch 11/20\n",
      "437/437 [==============================] - 8s 18ms/step - loss: 0.3432 - acc: 0.8610 - val_loss: 0.8795 - val_acc: 0.6673\n",
      "Epoch 12/20\n",
      "437/437 [==============================] - 8s 18ms/step - loss: 0.3117 - acc: 0.8673 - val_loss: 0.5848 - val_acc: 0.7613\n",
      "Epoch 13/20\n",
      "437/437 [==============================] - 8s 18ms/step - loss: 0.3254 - acc: 0.8773 - val_loss: 0.8012 - val_acc: 0.7493\n",
      "Epoch 14/20\n",
      "437/437 [==============================] - 8s 18ms/step - loss: 0.2993 - acc: 0.8907 - val_loss: 0.5850 - val_acc: 0.7387\n",
      "Epoch 15/20\n",
      "437/437 [==============================] - 8s 18ms/step - loss: 0.3155 - acc: 0.8847 - val_loss: 0.6245 - val_acc: 0.7553\n",
      "Epoch 16/20\n",
      "437/437 [==============================] - 8s 18ms/step - loss: 0.2843 - acc: 0.8927 - val_loss: 0.6055 - val_acc: 0.7327\n",
      "Epoch 17/20\n",
      "437/437 [==============================] - 8s 18ms/step - loss: 0.2922 - acc: 0.8962 - val_loss: 0.8339 - val_acc: 0.7547\n",
      "Epoch 18/20\n",
      "437/437 [==============================] - 8s 18ms/step - loss: 0.2852 - acc: 0.8985 - val_loss: 0.8300 - val_acc: 0.7280\n",
      "Epoch 19/20\n",
      "437/437 [==============================] - 8s 18ms/step - loss: 0.2755 - acc: 0.9027 - val_loss: 0.6207 - val_acc: 0.7587\n",
      "Epoch 20/20\n",
      "437/437 [==============================] - 8s 18ms/step - loss: 0.2547 - acc: 0.9116 - val_loss: 0.8505 - val_acc: 0.7587\n"
     ]
    }
   ],
   "source": [
    "def improved_model():   \n",
    "    model = Sequential()\n",
    "    model.add(Conv2D(32, (3, 3), input_shape=(img_w,img_h, 3)))\n",
    "    model.add(Activation('relu'))\n",
    "    model.add(MaxPooling2D(pool_size=(2, 2)))\n",
    "    model.add(Conv2D(32, (3, 3)))\n",
    "    model.add(Activation('relu'))\n",
    "    model.add(MaxPooling2D(pool_size=(2, 2)))\n",
    "    model.add(Conv2D(64, (3, 3)))\n",
    "    model.add(Activation('relu'))\n",
    "    model.add(MaxPooling2D(pool_size=(2, 2)))\n",
    "    model.add(Flatten())\n",
    "    model.add(Dense(64))\n",
    "    model.add(Activation('relu'))\n",
    "    model.add(Dropout(0.4))\n",
    "    model.add(Dense(1))\n",
    "    model.add(Activation('sigmoid'))\n",
    "    model.compile(loss='binary_crossentropy',\n",
    "                  optimizer='rmsprop',\n",
    "                  metrics=['accuracy'])\n",
    "    return model\n",
    "\n",
    "\n",
    "batch_size = 8\n",
    "\n",
    "train_generator = get_data_generator(train_data_path_small)\n",
    "val_generator = get_data_generator(val_data_path_small)\n",
    "model_improved = improved_model()\n",
    "\n",
    "history_improved = model_improved.fit_generator(train_generator, \n",
    "                                                epochs=20, verbose=1, \n",
    "                                                validation_data=val_generator,\n",
    "                                                validation_steps= 1500// batch_size,\n",
    "                                                steps_per_epoch = 3500// batch_size,\n",
    "                                                workers=8, use_multiprocessing=True)"
   ]
  },
  {
   "cell_type": "markdown",
   "metadata": {
    "deletable": false,
    "editable": false,
    "nbgrader": {
     "checksum": "a93627bb2c08c83a9d4cb6596ab27de7",
     "grade": false,
     "grade_id": "cell-bcff77954e648d56",
     "locked": true,
     "schema_version": 1,
     "solution": false
    }
   },
   "source": [
    "How does the model perform, compared to the initial model? Create one plot with the training accuracy and another with the validation accuracy of the two scenarios."
   ]
  },
  {
   "cell_type": "code",
   "execution_count": 12,
   "metadata": {
    "deletable": false,
    "nbgrader": {
     "checksum": "b18ab0f30b9a4e8e9746f324313fa1b2",
     "grade": true,
     "grade_id": "cell-e4cf90a9c3ae1959",
     "locked": false,
     "points": 0,
     "schema_version": 1,
     "solution": true
    }
   },
   "outputs": [
    {
     "data": {
      "image/png": "[encoded data removed]",
      "text/plain": [
       "<Figure size 1152x432 with 2 Axes>"
      ]
     },
     "metadata": {},
     "output_type": "display_data"
    }
   ],
   "source": [
    "f, (ax1, ax2) = plt.subplots(1, 2)\n",
    "f.suptitle('Training performance (improved)')\n",
    "plot_history(ax1, history_improved, 'Loss', {'Training': 'loss', 'Validation': 'val_loss'})\n",
    "plot_history(ax2, history_improved, 'Accuracy', {'Training': 'acc', 'Validation': 'val_acc'})\n",
    "\n",
    "plt.show()"
   ]
  },
  {
   "cell_type": "markdown",
   "metadata": {
    "deletable": false,
    "editable": false,
    "nbgrader": {
     "checksum": "5e771b76bc948242070767d51688eeee",
     "grade": false,
     "grade_id": "cell-14b1810989c351b4",
     "locked": true,
     "schema_version": 1,
     "solution": false
    }
   },
   "source": [
    "Did your results improve? Explain why, or why not."
   ]
  },
  {
   "cell_type": "markdown",
   "metadata": {
    "deletable": false,
    "nbgrader": {
     "checksum": "30a59a5574ab183d17b3f92f8057aba4",
     "grade": true,
     "grade_id": "cell-1d27850a74139e5a",
     "locked": false,
     "points": 1,
     "schema_version": 1,
     "solution": true
    }
   },
   "source": [
    "**Your answer:** By intoducing a deeper model, we increased the non-linearities and the receptive field of the network. Moreover, by introducing a Drop-out operation we decreased the influence of the most persistent patterns, thus decreased overfitting"
   ]
  },
  {
   "cell_type": "markdown",
   "metadata": {
    "deletable": false,
    "editable": false,
    "nbgrader": {
     "checksum": "67dce4bccc56629263ef4839e570f12a",
     "grade": false,
     "grade_id": "cell-ee79a83a62b70a8f",
     "locked": true,
     "schema_version": 1,
     "solution": false
    }
   },
   "source": [
    "---\n",
    "## 4. Obtaining the *best* model"
   ]
  },
  {
   "cell_type": "markdown",
   "metadata": {
    "deletable": false,
    "editable": false,
    "nbgrader": {
     "checksum": "6d029dd4346c9e32b725e6158d77475c",
     "grade": false,
     "grade_id": "cell-5314d286e79e0377",
     "locked": true,
     "schema_version": 1,
     "solution": false
    }
   },
   "source": [
    "Continue to improve your model architecture by comparing the value of the metrics you're interested in both the training and validation set. Try different ideas, and consider comparing them using tensorboard. When you're happy with one architecture, copy it in the cell below and train it here. Save the optimization history (i.e. the `history` object returned by the `fit_generator`). You'll use this later to compare your best model with the one using transfer learning.\n",
    "\n",
    "**Note**: When trying different ideas, you'll end up with several different models. However, when submitting your solutions to ping-pong, the cell below must contain only the definition and training of *one* model. Remove all code related to the models that were not chosen."
   ]
  },
  {
   "cell_type": "code",
   "execution_count": 14,
   "metadata": {
    "deletable": false,
    "nbgrader": {
     "checksum": "45e0af4b6ac1d453b519ba7c65ccb56d",
     "grade": true,
     "grade_id": "cell-6edb7d7e343ab14b",
     "locked": false,
     "points": 2,
     "schema_version": 1,
     "solution": true
    }
   },
   "outputs": [
    {
     "name": "stdout",
     "output_type": "stream",
     "text": [
      "Found 3500 images belonging to 2 classes.\n",
      "Found 1500 images belonging to 2 classes.\n",
      "Epoch 1/40\n",
      "437/437 [==============================] - 9s 21ms/step - loss: 4.8445 - acc: 0.5398 - val_loss: 3.7541 - val_acc: 0.5020\n",
      "Epoch 2/40\n",
      "  1/437 [..............................] - ETA: 28s - loss: 3.4603 - acc: 0.6250Epoch 1/40\n",
      "437/437 [==============================] - 9s 20ms/step - loss: 2.6888 - acc: 0.5463 - val_loss: 2.0736 - val_acc: 0.5527\n",
      "Epoch 3/40\n",
      "437/437 [==============================] - 9s 20ms/step - loss: 1.6678 - acc: 0.5698 - val_loss: 1.2970 - val_acc: 0.5687\n",
      "Epoch 4/40\n",
      "437/437 [==============================] - 9s 20ms/step - loss: 1.0837 - acc: 0.5838 - val_loss: 0.9062 - val_acc: 0.5880\n",
      "Epoch 5/40\n",
      "437/437 [==============================] - 9s 20ms/step - loss: 0.8034 - acc: 0.6033 - val_loss: 0.7418 - val_acc: 0.6013\n",
      "Epoch 6/40\n",
      "437/437 [==============================] - 9s 20ms/step - loss: 0.7198 - acc: 0.5269 - val_loss: 0.7055 - val_acc: 0.5000\n",
      "Epoch 7/40\n",
      "437/437 [==============================] - 9s 20ms/step - loss: 0.7001 - acc: 0.4937 - val_loss: 0.6964 - val_acc: 0.5000\n",
      "Epoch 8/40\n",
      "437/437 [==============================] - 9s 20ms/step - loss: 0.6952 - acc: 0.4954 - val_loss: 0.6944 - val_acc: 0.5000\n",
      "Epoch 9/40\n",
      "437/437 [==============================] - 9s 20ms/step - loss: 0.6941 - acc: 0.4886 - val_loss: 0.6939 - val_acc: 0.5000\n",
      "Epoch 10/40\n",
      "437/437 [==============================] - 9s 20ms/step - loss: 0.6939 - acc: 0.4871 - val_loss: 0.6939 - val_acc: 0.5000\n",
      "Epoch 11/40\n",
      "  1/437 [..............................] - ETA: 54s - loss: 0.6945 - acc: 0.2500Epoch 10/40\n",
      "437/437 [==============================] - 9s 20ms/step - loss: 0.6939 - acc: 0.4880 - val_loss: 0.6940 - val_acc: 0.5000\n",
      "Epoch 00011: early stopping\n"
     ]
    }
   ],
   "source": [
    "def best_model():   \n",
    "    model = Sequential()\n",
    "    model.add(Conv2D(32, (2, 2), input_shape=(img_w,img_h, 3)),)\n",
    "    model.add(Activation('relu'))\n",
    "    model.add(BatchNormalization())\n",
    "    model.add(MaxPooling2D(pool_size=(2, 2)))\n",
    "    model.add(Conv2D(32, (3, 3)))\n",
    "    model.add(Activation('relu'))\n",
    "    model.add(BatchNormalization())\n",
    "    model.add(MaxPooling2D(pool_size=(2, 2)))\n",
    "    model.add(Conv2D(32, (3, 3)))\n",
    "    model.add(Activation('relu'))\n",
    "    model.add(BatchNormalization())\n",
    "    model.add(MaxPooling2D(pool_size=(2, 2)))\n",
    "    model.add(Flatten())\n",
    "    model.add(Dense(64,\n",
    "                    kernel_regularizer=regularizers.l2(0.01),\n",
    "                    activity_regularizer=regularizers.l1(0.01), \n",
    "                    bias_regularizer=regularizers.l2(0.01)))\n",
    "    model.add(Activation('relu'))\n",
    "    model.add(Dropout(0.4))\n",
    "    model.add(Dense(1))\n",
    "    model.add(Activation('sigmoid'))\n",
    "    model.compile(loss='binary_crossentropy',\n",
    "                  optimizer='adam',\n",
    "                  metrics=['accuracy'])\n",
    "    return model\n",
    "\n",
    "batch_size = 8\n",
    "\n",
    "train_generator = get_data_generator(train_data_path_small)\n",
    "val_generator = get_data_generator(val_data_path_small)\n",
    "\n",
    "model_best = best_model()\n",
    "\n",
    "callbacks_best = [\n",
    "    TensorBoard(log_dir=f'./logs/best_{dt.utcnow().strftime(\"%y%m%d%H%M\")}'),\n",
    "    EarlyStopping(monitor='val_loss', \n",
    "                  min_delta=0.02,\n",
    "                  patience=5,\n",
    "                  verbose=1, \n",
    "                  mode='auto',\n",
    "                  baseline=0.8)\n",
    "]\n",
    "\n",
    "history_best = model_best.fit_generator(train_generator, epochs=40, verbose=1,\n",
    "                                        callbacks=callbacks_best, \n",
    "                                        validation_data=val_generator,\n",
    "                                        validation_steps=1500// batch_size,\n",
    "                                        steps_per_epoch =3500// batch_size,\n",
    "                                        workers=8, use_multiprocessing=True)\n",
    "\n",
    "model = model_best"
   ]
  },
  {
   "cell_type": "markdown",
   "metadata": {
    "deletable": false,
    "editable": false,
    "nbgrader": {
     "checksum": "3ed8d707a3e3e3e2dc6e09630da26d02",
     "grade": false,
     "grade_id": "cell-d033937b5a8b9875",
     "locked": true,
     "schema_version": 1,
     "solution": false
    }
   },
   "source": [
    "Create one figure with two axes. In one of them, plot the loss in the training and the validation datasets. In the other one, plot the accuracy in the training and validation datasets."
   ]
  },
  {
   "cell_type": "code",
   "execution_count": 15,
   "metadata": {
    "deletable": false,
    "nbgrader": {
     "checksum": "88f944698dc9dc353e1933fe16b6de87",
     "grade": true,
     "grade_id": "cell-3df999674672de47",
     "locked": false,
     "points": 0,
     "schema_version": 1,
     "solution": true
    }
   },
   "outputs": [
    {
     "data": {
      "image/png": "[encoded data removed]",
      "text/plain": [
       "<Figure size 1152x432 with 2 Axes>"
      ]
     },
     "metadata": {},
     "output_type": "display_data"
    }
   ],
   "source": [
    "f, (ax1, ax2) = plt.subplots(1, 2)\n",
    "f.suptitle('Training performance (best)')\n",
    "plot_history(ax1, history_best, 'Loss', {'Training': 'loss', 'Validation': 'val_loss'})\n",
    "plot_history(ax2, history_best, 'Accuracy', {'Training': 'acc', 'Validation': 'val_acc'})\n",
    "\n",
    "plt.show()"
   ]
  },
  {
   "cell_type": "markdown",
   "metadata": {
    "deletable": false,
    "editable": false,
    "nbgrader": {
     "checksum": "69f51481b462b089daee7f896bad2cc3",
     "grade": false,
     "grade_id": "cell-c67bcc4fbec1808e",
     "locked": true,
     "schema_version": 1,
     "solution": false
    }
   },
   "source": [
    "[Save your model](https://keras.io/getting-started/faq/#how-can-i-save-a-keras-model) to disk as a HDF5 file (the architecture, weights and optimizer state). This is simply so you can use it again easily in the later parts of the notebook, without having to keep it in memory or re-training it. The actual `.h5` files you create are not relevant to your ping-pong submission."
   ]
  },
  {
   "cell_type": "code",
   "execution_count": 16,
   "metadata": {},
   "outputs": [],
   "source": [
    "model.save('my_model.h5')"
   ]
  },
  {
   "cell_type": "markdown",
   "metadata": {
    "deletable": false,
    "editable": false,
    "nbgrader": {
     "checksum": "f560cd87a745d9931d137a0224adb847",
     "grade": false,
     "grade_id": "cell-25f9cc8d17491d0d",
     "locked": true,
     "schema_version": 1,
     "solution": false
    }
   },
   "source": [
    "---\n",
    "## 5. Transfer Learning"
   ]
  },
  {
   "cell_type": "markdown",
   "metadata": {
    "deletable": false,
    "editable": false,
    "nbgrader": {
     "checksum": "2f9adb5c8ce6970840bc5d256e74ca69",
     "grade": false,
     "grade_id": "cell-cf9b347fc3ee9255",
     "locked": true,
     "schema_version": 1,
     "solution": false
    }
   },
   "source": [
    "Now, instead of trying to come up with a good architecture for this task, we'll use the VGG16 architecture, but with the top layers removed (the fully connected + classification layers). We'll substitute them with a single fully connected layer, and a classification layer that makes sense for our problem.\n",
    "\n",
    "However, this model has a very high capacity, and will probably suffer a lot from overfitting if we try to train it from scratch, using only our small subset of data. Instead, we'll start the optimization with the weights obtained after training VGG16 on the ImageNet dataset.\n",
    "\n",
    "Start by loading the VGG16 model without the top layers, from the `applications` submodule from Keras. Make sure to also load the weights obtained from the ImageNet pretraining."
   ]
  },
  {
   "cell_type": "code",
   "execution_count": 17,
   "metadata": {
    "deletable": false,
    "nbgrader": {
     "checksum": "984428d972274a469334141d07c8666a",
     "grade": true,
     "grade_id": "cell-01ebc4c9c306b985",
     "locked": false,
     "points": 0,
     "schema_version": 1,
     "solution": true
    }
   },
   "outputs": [],
   "source": [
    "vgg = vgg16.VGG16(include_top=False, \n",
    "                  weights='imagenet', \n",
    "                  input_shape=(img_w, img_h, 3),\n",
    "                  pooling=None)"
   ]
  },
  {
   "cell_type": "markdown",
   "metadata": {
    "deletable": false,
    "editable": false,
    "nbgrader": {
     "checksum": "ee2e7869aeb45bf734d52c7559ab6cb6",
     "grade": false,
     "grade_id": "cell-faed8047ef25a60d",
     "locked": true,
     "schema_version": 1,
     "solution": false
    }
   },
   "source": [
    "Create a new model with the layers you want to add on top of VGG. The kernels and bias in these layers should be initialized randomly."
   ]
  },
  {
   "cell_type": "code",
   "execution_count": 18,
   "metadata": {
    "deletable": false,
    "nbgrader": {
     "checksum": "a22c7aa185d3eca27d8722755b0a41a1",
     "grade": true,
     "grade_id": "cell-56cb37360051a638",
     "locked": false,
     "points": 1,
     "schema_version": 1,
     "solution": true
    }
   },
   "outputs": [],
   "source": [
    "def cats_and_dogs_layer():   \n",
    "    model = Sequential()\n",
    "    model.add(BatchNormalization())\n",
    "    model.add(Flatten())\n",
    "    model.add(Dense(4096, input_shape=(img_w,img_h, 3), kernel_initializer='random_uniform', bias_initializer='random_uniform'))\n",
    "    model.add(Activation('relu'))\n",
    "    model.add(BatchNormalization())\n",
    "    model.add(Dropout(0.4))\n",
    "    model.add(Dense(1))\n",
    "    model.add(Activation('sigmoid'))\n",
    "    return model"
   ]
  },
  {
   "cell_type": "markdown",
   "metadata": {
    "deletable": false,
    "editable": false,
    "nbgrader": {
     "checksum": "ff49bf63789cfb3023f59b7ff1de074b",
     "grade": false,
     "grade_id": "cell-d746f9eb61e3ea44",
     "locked": true,
     "schema_version": 1,
     "solution": false
    }
   },
   "source": [
    "Now add the new model on top of VGG.\n",
    "\n",
    "Tip:\n",
    "- The VGG model you loaded from the `applications` submodule is from the [`Model`](https://keras.io/models/model/) class, not the `Sequential` class, so it doesn't have some methods you're used to (like `add`, for instance). It might be helpful to read [this introduction to the Model class](https://keras.io/getting-started/functional-api-guide/)."
   ]
  },
  {
   "cell_type": "code",
   "execution_count": 19,
   "metadata": {
    "deletable": false,
    "nbgrader": {
     "checksum": "642f3cbea497868385adff16643091c4",
     "grade": true,
     "grade_id": "cell-76e4aad7fbcf5d05",
     "locked": false,
     "points": 0,
     "schema_version": 1,
     "solution": true
    }
   },
   "outputs": [],
   "source": [
    "inputs = Input(shape=(img_w, img_h, 3))\n",
    "feature_extractor = vgg(inputs)\n",
    "classifier = cats_and_dogs_layer()(feature_extractor)\n",
    "vgg_based_model = Model(inputs=inputs, outputs=classifier)"
   ]
  },
  {
   "cell_type": "markdown",
   "metadata": {
    "deletable": false,
    "editable": false,
    "nbgrader": {
     "checksum": "e80006261cee156aafe6aac9408f2678",
     "grade": false,
     "grade_id": "cell-f76d1a7f6280af0d",
     "locked": true,
     "schema_version": 1,
     "solution": false
    }
   },
   "source": [
    "### 5.1 Using VGG features"
   ]
  },
  {
   "cell_type": "markdown",
   "metadata": {
    "deletable": false,
    "editable": false,
    "nbgrader": {
     "checksum": "2b12c99269787356513640faa3528233",
     "grade": false,
     "grade_id": "cell-270f8ec140ddfba3",
     "locked": true,
     "schema_version": 1,
     "solution": false
    }
   },
   "source": [
    "Now we're almost ready to train the new model. However, since the top layers of this architecture are being initialized randomly, it's sometimes possible for them to generate large gradients that can wreck the pretraining of the bottom layers. To avoid this, freeze all the VGG layers in your architecture (i.e. signal to the optimizer that these should not be changed during optimization) by setting the `trainable` attribute of them to `False`."
   ]
  },
  {
   "cell_type": "code",
   "execution_count": 20,
   "metadata": {
    "deletable": false,
    "nbgrader": {
     "checksum": "072f414eabdbed6bd1f0baa8e855e48f",
     "grade": true,
     "grade_id": "cell-bfb58ea46c31df0a",
     "locked": false,
     "points": 0,
     "schema_version": 1,
     "solution": true
    }
   },
   "outputs": [
    {
     "name": "stdout",
     "output_type": "stream",
     "text": [
      "Layers:\n",
      "0 input_2\n",
      "1 vgg16\n",
      "2 sequential_5\n"
     ]
    }
   ],
   "source": [
    "print(\"Layers:\")\n",
    "for i, layer in enumerate(vgg_based_model.layers):\n",
    "   print(i, layer.name)\n",
    "\n",
    "vgg_based_model.layers[1].trainable = False"
   ]
  },
  {
   "cell_type": "markdown",
   "metadata": {
    "deletable": false,
    "editable": false,
    "nbgrader": {
     "checksum": "669e85a9b10286b41f6b40837f009d45",
     "grade": false,
     "grade_id": "cell-b508ede3d760a86b",
     "locked": true,
     "schema_version": 1,
     "solution": false
    }
   },
   "source": [
    "Create the callbacks (if any) you would like to use, compile the model and train it."
   ]
  },
  {
   "cell_type": "code",
   "execution_count": 21,
   "metadata": {
    "deletable": false,
    "nbgrader": {
     "checksum": "9c8cccd2e638d17af85d50f45cb05ee3",
     "grade": true,
     "grade_id": "cell-5a025e60545ca151",
     "locked": false,
     "points": 1,
     "schema_version": 1,
     "solution": true
    }
   },
   "outputs": [
    {
     "name": "stdout",
     "output_type": "stream",
     "text": [
      "Found 3500 images belonging to 2 classes.\n",
      "Found 1500 images belonging to 2 classes.\n",
      "Epoch 1/40\n",
      "436/437 [============================>.] - ETA: 0s - loss: 0.8876 - acc: 0.7629Epoch 1/40\n",
      "437/437 [==============================] - 36s 82ms/step - loss: 0.8864 - acc: 0.7629 - val_loss: 0.4954 - val_acc: 0.8193\n",
      "Epoch 2/40\n",
      "Epoch 1/40\n",
      "437/437 [==============================] - 34s 78ms/step - loss: 0.4535 - acc: 0.8149 - val_loss: 0.5206 - val_acc: 0.8347\n",
      "Epoch 3/40\n",
      "437/437 [==============================] - 34s 78ms/step - loss: 0.3669 - acc: 0.8621 - val_loss: 0.5606 - val_acc: 0.8107\n",
      "Epoch 4/40\n",
      "437/437 [==============================] - 34s 78ms/step - loss: 0.3353 - acc: 0.8721 - val_loss: 0.5924 - val_acc: 0.8333\n",
      "Epoch 4/40\n",
      "Epoch 5/40\n",
      "437/437 [==============================] - 34s 78ms/step - loss: 0.3190 - acc: 0.8859 - val_loss: 0.6436 - val_acc: 0.8133\n",
      "Epoch 6/40\n",
      "437/437 [==============================] - 34s 78ms/step - loss: 0.2952 - acc: 0.8902 - val_loss: 0.6604 - val_acc: 0.8020\n",
      "Epoch 00006: early stopping\n"
     ]
    }
   ],
   "source": [
    "vgg_based_model.compile(loss='binary_crossentropy',\n",
    "                        optimizer='adam',\n",
    "                        metrics=['accuracy'])\n",
    "\n",
    "batch_size = 8\n",
    "\n",
    "train_generator = get_data_generator(train_data_path_small)\n",
    "val_generator = get_data_generator(val_data_path_small)\n",
    "\n",
    "callbacks_vgg = [\n",
    "    TensorBoard(log_dir=f'./logs/vgg__{dt.utcnow().strftime(\"%y%m%d%H%M\")}'),\n",
    "    EarlyStopping(monitor='val_loss', \n",
    "                  min_delta=0.02,\n",
    "                  patience=5,\n",
    "                  verbose=1, \n",
    "                  mode='auto',\n",
    "                  baseline=0.8),\n",
    "]\n",
    "\n",
    "history_vgg = vgg_based_model.fit_generator(train_generator, epochs=40, verbose=1, \n",
    "                                            callbacks=callbacks_vgg, \n",
    "                                            validation_data=val_generator,\n",
    "                                            validation_steps=1500// batch_size,\n",
    "                                            steps_per_epoch =3500// batch_size,\n",
    "                                            workers=8, use_multiprocessing=True)\n",
    "\n",
    "model = vgg_based_model"
   ]
  },
  {
   "cell_type": "markdown",
   "metadata": {
    "deletable": false,
    "editable": false,
    "nbgrader": {
     "checksum": "f4045831d222640d7baf44a285c3de97",
     "grade": false,
     "grade_id": "cell-ad79e1aa5c4a6185",
     "locked": true,
     "schema_version": 1,
     "solution": false
    }
   },
   "source": [
    "Create one figure with two axes. In one of them, plot the loss in the training and the validation datasets. In the other one, plot the accuracy in the training and validation datasets."
   ]
  },
  {
   "cell_type": "code",
   "execution_count": 22,
   "metadata": {
    "deletable": false,
    "nbgrader": {
     "checksum": "99986b7bbdfb6b78c25112751969d11f",
     "grade": true,
     "grade_id": "cell-f17c882b2a09dee7",
     "locked": false,
     "points": 0,
     "schema_version": 1,
     "solution": true
    }
   },
   "outputs": [
    {
     "data": {
      "image/png": "[encoded data removed]",
      "text/plain": [
       "<Figure size 1152x432 with 2 Axes>"
      ]
     },
     "metadata": {},
     "output_type": "display_data"
    }
   ],
   "source": [
    "f, (ax1, ax2) = plt.subplots(1, 2)\n",
    "f.suptitle('Training performance (VGG + custom layer)')\n",
    "plot_history(ax1, history_vgg, 'Loss', {'Training': 'loss', 'Validation': 'val_loss'})\n",
    "plot_history(ax2, history_vgg, 'Accuracy', {'Training': 'acc', 'Validation': 'val_acc'})\n",
    "\n",
    "plt.show()"
   ]
  },
  {
   "cell_type": "markdown",
   "metadata": {
    "deletable": false,
    "editable": false,
    "nbgrader": {
     "checksum": "7e3c0eb41e650ec3e30733ab5ea488d1",
     "grade": false,
     "grade_id": "cell-779d477ffe1ebbf6",
     "locked": true,
     "schema_version": 1,
     "solution": false
    }
   },
   "source": [
    "How does the model perform, compared to the model obtained in step 4? Create one plot with the training accuracy and another with the validation accuracy of the two scenarios."
   ]
  },
  {
   "cell_type": "code",
   "execution_count": 39,
   "metadata": {
    "deletable": false,
    "nbgrader": {
     "checksum": "873c045fa2e6f22815a90194ed2785f3",
     "grade": true,
     "grade_id": "cell-e3e3990ba39bea67",
     "locked": false,
     "points": 0,
     "schema_version": 1,
     "solution": true
    }
   },
   "outputs": [
    {
     "data": {
      "image/png": "[encoded data removed]",
      "text/plain": [
       "<Figure size 1152x432 with 2 Axes>"
      ]
     },
     "metadata": {},
     "output_type": "display_data"
    }
   ],
   "source": [
    "def plot_histories(ax, histories, ylabel, metric, title=None):\n",
    "    histories_items = histories.items()\n",
    "    for _label, history in histories_items:\n",
    "        ax.plot(history.history[metric], '-o')\n",
    "    ax.set_ylabel(ylabel)\n",
    "    ax.set_xlabel('Epoch')\n",
    "    if title:\n",
    "        ax.title.set_text(title)\n",
    "    ax.legend([label for label, _history in histories_items])\n",
    "    \n",
    "f, (ax1, ax2) = plt.subplots(1, 2, sharey=True)\n",
    "ax2.yaxis.set_tick_params(labelleft=True)\n",
    "f.suptitle('Best vs VGG-based model accuracy')\n",
    "\n",
    "plot_histories(ax1, {'Best': history_best, 'VGG-based': history_vgg}, 'Training accuracy', 'acc')\n",
    "plot_histories(ax2, {'Best': history_best, 'VGG-based': history_vgg}, 'Validation accuracy', 'val_acc')\n",
    "\n",
    "plt.show()"
   ]
  },
  {
   "cell_type": "markdown",
   "metadata": {
    "deletable": false,
    "editable": false,
    "nbgrader": {
     "checksum": "49a22cb7fa7d4bc6335f5185d419101e",
     "grade": false,
     "grade_id": "cell-b84dd461d5ddcc8d",
     "locked": true,
     "schema_version": 1,
     "solution": false
    }
   },
   "source": [
    "Compare these results. Which approach worked best, starting from scratch or doing transfer learning? Explain how you evaluated this."
   ]
  },
  {
   "cell_type": "markdown",
   "metadata": {
    "deletable": false,
    "nbgrader": {
     "checksum": "58110ed91d1dc2020287d64755fafddd",
     "grade": true,
     "grade_id": "cell-f9e1a6a643946cd2",
     "locked": false,
     "points": 0.25,
     "schema_version": 1,
     "solution": true
    }
   },
   "source": [
    "**Your answer:** (fill in here)"
   ]
  },
  {
   "cell_type": "markdown",
   "metadata": {
    "deletable": false,
    "editable": false,
    "nbgrader": {
     "checksum": "f1d1fd0b9a00091e75a5bd0eaa19a8bf",
     "grade": false,
     "grade_id": "cell-c8afb448c67da5f8",
     "locked": true,
     "schema_version": 1,
     "solution": false
    }
   },
   "source": [
    "What are the main differences between the ImageNet dataset and the Dogs vs Cats dataset we used?"
   ]
  },
  {
   "cell_type": "markdown",
   "metadata": {
    "deletable": false,
    "nbgrader": {
     "checksum": "36cc539d06e12eba46249e29640ce6a1",
     "grade": true,
     "grade_id": "cell-2be321b63232ae01",
     "locked": false,
     "points": 0.25,
     "schema_version": 1,
     "solution": true
    }
   },
   "source": [
    "**Your answer:** Dogs vs Cats contains thousands of images of both dogs and cats, whereas ImageNet contains only a few hundred of them (see [ImageNet Explore tool](http://image-net.org/explore)). But it also contains millions of images of other categories."
   ]
  },
  {
   "cell_type": "markdown",
   "metadata": {
    "deletable": false,
    "editable": false,
    "nbgrader": {
     "checksum": "1c0b0eae153b6076ca628a773203df42",
     "grade": false,
     "grade_id": "cell-71a8b8de004f6e57",
     "locked": true,
     "schema_version": 1,
     "solution": false
    }
   },
   "source": [
    "Even though there are considerable differences between these datasets, why is it that transfer learning is still a good idea?"
   ]
  },
  {
   "cell_type": "markdown",
   "metadata": {
    "deletable": false,
    "nbgrader": {
     "checksum": "7a990cd4099df100c9dc733bee0db608",
     "grade": true,
     "grade_id": "cell-655d00face15a862",
     "locked": false,
     "points": 0.25,
     "schema_version": 1,
     "solution": true
    }
   },
   "source": [
    "**Your answer:** (fill in here)"
   ]
  },
  {
   "cell_type": "markdown",
   "metadata": {
    "deletable": false,
    "editable": false,
    "nbgrader": {
     "checksum": "2d9425a067d87ef11d206088e82bb3c7",
     "grade": false,
     "grade_id": "cell-19785940b9624d2c",
     "locked": true,
     "schema_version": 1,
     "solution": false
    }
   },
   "source": [
    "In which scenario would transfer learning be unsuitable?"
   ]
  },
  {
   "cell_type": "markdown",
   "metadata": {
    "deletable": false,
    "nbgrader": {
     "checksum": "8ab35c98ddf1c98635eb188a197fd885",
     "grade": true,
     "grade_id": "cell-e79df7472ff5506a",
     "locked": false,
     "points": 0.25,
     "schema_version": 1,
     "solution": true
    }
   },
   "source": [
    "**Your answer:** (fill in here)"
   ]
  },
  {
   "cell_type": "markdown",
   "metadata": {
    "deletable": false,
    "editable": false,
    "nbgrader": {
     "checksum": "bbea73c6a2825f9b3e730907ba3ae71f",
     "grade": false,
     "grade_id": "cell-111f2b1d28919293",
     "locked": true,
     "schema_version": 1,
     "solution": false
    }
   },
   "source": [
    "Save the model to a HDF5 file."
   ]
  },
  {
   "cell_type": "code",
   "execution_count": 24,
   "metadata": {},
   "outputs": [],
   "source": [
    "model.save('trans_learning_top_only.h5')"
   ]
  },
  {
   "cell_type": "markdown",
   "metadata": {
    "deletable": false,
    "editable": false,
    "nbgrader": {
     "checksum": "8b8007704893660e8abc0c87b9028923",
     "grade": false,
     "grade_id": "cell-544a73726bebe121",
     "locked": true,
     "schema_version": 1,
     "solution": false
    }
   },
   "source": [
    "### 5.2 Fine-tuning"
   ]
  },
  {
   "cell_type": "markdown",
   "metadata": {
    "deletable": false,
    "editable": false,
    "nbgrader": {
     "checksum": "6b5a44cfe68ff124f447339454f4f3ee",
     "grade": false,
     "grade_id": "cell-1ee9ebc87fd3358e",
     "locked": true,
     "schema_version": 1,
     "solution": false
    }
   },
   "source": [
    "Now that we have a better starting point for the top layers, we can train the entire network. Unfreeze the bottom layers.\n",
    "\n",
    "Tip:\n",
    "- Always recompile your model after changing anything in it!"
   ]
  },
  {
   "cell_type": "code",
   "execution_count": 48,
   "metadata": {
    "deletable": false,
    "nbgrader": {
     "checksum": "412d6cf989068c151bd4b3f4085e7194",
     "grade": true,
     "grade_id": "cell-3918c2cdd9817f7e",
     "locked": false,
     "points": 0,
     "schema_version": 1,
     "solution": true
    }
   },
   "outputs": [
    {
     "name": "stderr",
     "output_type": "stream",
     "text": [
      "/home/student/anaconda3/envs/dml_gpu/lib/python3.6/site-packages/keras/engine/saving.py:304: UserWarning: Error in loading the saved optimizer state. As a result, your model is starting with a freshly initialized optimizer.\n",
      "  warnings.warn('Error in loading the saved optimizer '\n"
     ]
    }
   ],
   "source": [
    "model = load_model('trans_learning_top_only.h5') \n",
    "\n",
    "# load_model will raise a UserWarning about an error loading the saved optimizer state\n",
    "# we can ignore that since we explicitly assign this missing state below\n",
    "# for more info see https://stackoverflow.com/questions/49195189/error-loading-the-saved-optimizer-keras-python-raspberry\n",
    "\n",
    "model.layers[0].trainable = False\n",
    "for layer in model.layers[1:]:\n",
    "    layer.trainable = True\n",
    "\n",
    "model.compile(loss='binary_crossentropy', optimizer=Adam(lr=1e-6), metrics=['accuracy'])"
   ]
  },
  {
   "cell_type": "markdown",
   "metadata": {
    "deletable": false,
    "editable": false,
    "nbgrader": {
     "checksum": "ff2a177a54d2f9830995848f8de425b8",
     "grade": false,
     "grade_id": "cell-80fa8c89f1b262f1",
     "locked": true,
     "schema_version": 1,
     "solution": false
    }
   },
   "source": [
    "Create the callbacks (if any) you would like to use for this training here, compile the model, and train it.\n",
    "\n",
    "Tip:\n",
    "- Even though we do have a decent starting point for the optimization, it's still possible that a bad hyper-parameter choice wrecks the preinitialization. Make sure to use a small learning rate for this step."
   ]
  },
  {
   "cell_type": "code",
   "execution_count": 49,
   "metadata": {
    "deletable": false,
    "nbgrader": {
     "checksum": "6814e17803f83868b0fd75d82f421ec3",
     "grade": true,
     "grade_id": "cell-594c6039216461e5",
     "locked": false,
     "points": 1,
     "schema_version": 1,
     "solution": true
    }
   },
   "outputs": [
    {
     "name": "stdout",
     "output_type": "stream",
     "text": [
      "Found 3500 images belonging to 2 classes.\n",
      "Found 1500 images belonging to 2 classes.\n",
      "Epoch 1/30\n",
      "437/437 [==============================] - 73s 168ms/step - loss: 0.2202 - acc: 0.9142 - val_loss: 0.5759 - val_acc: 0.8240\n",
      "Epoch 2/30\n",
      "437/437 [==============================] - 71s 163ms/step - loss: 0.1850 - acc: 0.9251 - val_loss: 0.5169 - val_acc: 0.8380\n",
      "Epoch 3/30\n",
      "437/437 [==============================] - 71s 163ms/step - loss: 0.1595 - acc: 0.9356 - val_loss: 0.5223 - val_acc: 0.8420\n",
      "Epoch 4/30\n",
      "437/437 [==============================] - 71s 163ms/step - loss: 0.1347 - acc: 0.9479 - val_loss: 0.5061 - val_acc: 0.8447\n",
      "Epoch 5/30\n",
      "437/437 [==============================] - 71s 162ms/step - loss: 0.1350 - acc: 0.9462 - val_loss: 0.5249 - val_acc: 0.8480\n",
      "Epoch 6/30\n",
      "437/437 [==============================] - 71s 162ms/step - loss: 0.1110 - acc: 0.9565 - val_loss: 0.5481 - val_acc: 0.8400\n",
      "Epoch 6/30\n",
      "Epoch 7/30\n",
      "437/437 [==============================] - 71s 162ms/step - loss: 0.0974 - acc: 0.9597 - val_loss: 0.5024 - val_acc: 0.8433\n",
      "Epoch 8/30\n",
      "Epoch 7/30\n",
      "437/437 [==============================] - 71s 162ms/step - loss: 0.1049 - acc: 0.9625 - val_loss: 0.5017 - val_acc: 0.8473\n",
      "Epoch 9/30\n",
      "437/437 [==============================] - 71s 162ms/step - loss: 0.0970 - acc: 0.9602 - val_loss: 0.4994 - val_acc: 0.8453\n",
      "Epoch 10/30\n",
      "437/437 [==============================] - 71s 161ms/step - loss: 0.0885 - acc: 0.9640 - val_loss: 0.5006 - val_acc: 0.8513\n",
      "Epoch 00010: early stopping\n"
     ]
    }
   ],
   "source": [
    "batch_size = 8\n",
    "\n",
    "train_generator = get_data_generator(train_data_path_small)\n",
    "val_generator = get_data_generator(val_data_path_small)\n",
    "\n",
    "callbacks_final = [\n",
    "    TensorBoard(log_dir=f'./logs/vgg-final_{dt.utcnow().strftime(\"%y%m%d%H%M\")}'),\n",
    "    EarlyStopping(monitor='val_loss', \n",
    "                  min_delta=0.01,\n",
    "                  patience=6,\n",
    "                  verbose=1, \n",
    "                  mode='auto',\n",
    "                  baseline=None),\n",
    "]\n",
    "\n",
    "history_vgg_final = model.fit_generator(train_generator, epochs=30, verbose=1, \n",
    "                                            callbacks=callbacks_final, \n",
    "                                            validation_data=val_generator,\n",
    "                                            validation_steps= 1500// batch_size,\n",
    "                                            steps_per_epoch = 3500// batch_size,\n",
    "                                            workers=8, use_multiprocessing=True)"
   ]
  },
  {
   "cell_type": "markdown",
   "metadata": {
    "deletable": false,
    "editable": false,
    "nbgrader": {
     "checksum": "653d29a729772d9cb73bfbe24fc76065",
     "grade": false,
     "grade_id": "cell-5dc3e388a41da3ed",
     "locked": true,
     "schema_version": 1,
     "solution": false
    }
   },
   "source": [
    "How does the model perform, compared to the model trained with freezed layers? Create one plot with the training accuracy and another with the validation accuracy of the two scenarios."
   ]
  },
  {
   "cell_type": "code",
   "execution_count": 50,
   "metadata": {
    "deletable": false,
    "nbgrader": {
     "checksum": "b7b2e69e2ffc7f5bff07ba62225b4cee",
     "grade": true,
     "grade_id": "cell-7edb12ee397ec817",
     "locked": false,
     "points": 0,
     "schema_version": 1,
     "solution": true
    }
   },
   "outputs": [
    {
     "data": {
      "image/png": "[encoded data removed]",
      "text/plain": [
       "<Figure size 1152x432 with 2 Axes>"
      ]
     },
     "metadata": {},
     "output_type": "display_data"
    }
   ],
   "source": [
    "f, (ax1, ax2) = plt.subplots(1, 2, sharey=True)\n",
    "ax2.yaxis.set_tick_params(labelleft=True)\n",
    "f.suptitle('VGG frozen vs VGG unfrozen model accuracy')\n",
    "plot_history(ax1, history_vgg, 'Accuracy', {'Training': 'acc', 'Validation': 'val_acc'}, title='VGG frozen')\n",
    "plot_history(ax2, history_vgg_final, 'Accuracy', {'Training': 'acc', 'Validation': 'val_acc'}, title='VGG fine-tuned')\n",
    "plt.show()"
   ]
  },
  {
   "cell_type": "markdown",
   "metadata": {
    "deletable": false,
    "editable": false,
    "nbgrader": {
     "checksum": "c14cf7017869bbc745425dc4c9d4a7a9",
     "grade": false,
     "grade_id": "cell-5dae528a81d5ff24",
     "locked": true,
     "schema_version": 1,
     "solution": false
    }
   },
   "source": [
    "Did the model's performance improve? Why (why not)?"
   ]
  },
  {
   "cell_type": "markdown",
   "metadata": {
    "deletable": false,
    "nbgrader": {
     "checksum": "69dfca588131944b0e9825a1532de432",
     "grade": true,
     "grade_id": "cell-0f4a5edca490320e",
     "locked": false,
     "points": 1,
     "schema_version": 1,
     "solution": true
    }
   },
   "source": [
    "**Your answer:** (fill in here)"
   ]
  },
  {
   "cell_type": "markdown",
   "metadata": {
    "deletable": false,
    "editable": false,
    "nbgrader": {
     "checksum": "b4d50b78d6ec765ce5b0f627873fa5e3",
     "grade": false,
     "grade_id": "cell-4ed3967e4f6c5f7f",
     "locked": true,
     "schema_version": 1,
     "solution": false
    }
   },
   "source": [
    "Save the model to a HDF5 file."
   ]
  },
  {
   "cell_type": "code",
   "execution_count": 51,
   "metadata": {},
   "outputs": [],
   "source": [
    "model.save('trans_learning_full.h5')"
   ]
  },
  {
   "cell_type": "markdown",
   "metadata": {
    "deletable": false,
    "editable": false,
    "nbgrader": {
     "checksum": "512bd4321118a59c1774035ffde4470d",
     "grade": false,
     "grade_id": "cell-56908ee1e60aa411",
     "locked": true,
     "schema_version": 1,
     "solution": false
    }
   },
   "source": [
    "### 5.3 Improving the top model (optional)"
   ]
  },
  {
   "cell_type": "markdown",
   "metadata": {
    "deletable": false,
    "editable": false,
    "nbgrader": {
     "checksum": "a63ad0cdc8ae853a3b9b6ebd16904186",
     "grade": false,
     "grade_id": "cell-3c8d8e5ab949ee35",
     "locked": true,
     "schema_version": 1,
     "solution": false
    }
   },
   "source": [
    "Improve the architecture for the layers you add on top of VGG16. Try different ideas, and consider comparing them using tensorboard. When you're happy with one architecture, copy it in the cell below and train it here."
   ]
  },
  {
   "cell_type": "code",
   "execution_count": 52,
   "metadata": {
    "deletable": false,
    "nbgrader": {
     "checksum": "8e78037ef98c08769cd8104d7541cb51",
     "grade": true,
     "grade_id": "cell-22d09c8401d84b61",
     "locked": false,
     "points": 1,
     "schema_version": 1,
     "solution": true
    }
   },
   "outputs": [],
   "source": [
    "# YOUR CODE HERE"
   ]
  },
  {
   "cell_type": "markdown",
   "metadata": {
    "deletable": false,
    "editable": false,
    "nbgrader": {
     "checksum": "d040142833a356a7174729a7a8aadb1c",
     "grade": false,
     "grade_id": "cell-48933baad6c5afeb",
     "locked": true,
     "schema_version": 1,
     "solution": false
    }
   },
   "source": [
    "How does the model perform, compared to the model trained in step 5.2? Create one plot with the training accuracy and another with the validation accuracy of the two scenarios."
   ]
  },
  {
   "cell_type": "code",
   "execution_count": 53,
   "metadata": {
    "deletable": false,
    "nbgrader": {
     "checksum": "0bac4e10ca36850170af565096710d1c",
     "grade": true,
     "grade_id": "cell-7cb62a04916a848e",
     "locked": false,
     "points": 0,
     "schema_version": 1,
     "solution": true
    }
   },
   "outputs": [],
   "source": [
    "# YOUR CODE HERE"
   ]
  },
  {
   "cell_type": "markdown",
   "metadata": {
    "deletable": false,
    "editable": false,
    "nbgrader": {
     "checksum": "729c848775b6b7c20775151cffe38bfa",
     "grade": false,
     "grade_id": "cell-8bbfa3e11e2dfff9",
     "locked": true,
     "schema_version": 1,
     "solution": false
    }
   },
   "source": [
    "Save the model to a HDF5 file."
   ]
  },
  {
   "cell_type": "code",
   "execution_count": 54,
   "metadata": {},
   "outputs": [],
   "source": [
    "model.save('best_trans_learning.h5')"
   ]
  },
  {
   "cell_type": "markdown",
   "metadata": {
    "deletable": false,
    "editable": false,
    "nbgrader": {
     "checksum": "4b192e3a46581dd6f57326ddb21ee49c",
     "grade": false,
     "grade_id": "cell-ad0efbac33de5a65",
     "locked": true,
     "schema_version": 1,
     "solution": false
    }
   },
   "source": [
    "## 6. Final training"
   ]
  },
  {
   "cell_type": "markdown",
   "metadata": {
    "deletable": false,
    "editable": false,
    "nbgrader": {
     "checksum": "6e460754d2c0f05f0e79ae982a3fe3d3",
     "grade": false,
     "grade_id": "cell-cf811afdac96843b",
     "locked": true,
     "schema_version": 1,
     "solution": false
    }
   },
   "source": [
    "Now we'll train the model that achieved the best performance so far using the entire dataset.\n",
    "\n",
    "**Note**: start the optimization with the weights you obtained training in the smaller subset, i.e. *not* from scratch."
   ]
  },
  {
   "cell_type": "markdown",
   "metadata": {
    "deletable": false,
    "editable": false,
    "nbgrader": {
     "checksum": "10fada090ba96eae198313ce7e9f1e22",
     "grade": false,
     "grade_id": "cell-3ae2a65188e4ac74",
     "locked": true,
     "schema_version": 1,
     "solution": false
    }
   },
   "source": [
    "First, create two new data generators, one for training samples and one for validation samples. This time, they'll load data from the folders for the entire dataset."
   ]
  },
  {
   "cell_type": "code",
   "execution_count": 55,
   "metadata": {
    "deletable": false,
    "nbgrader": {
     "checksum": "62bfd99d9d34913ada18493c74745706",
     "grade": true,
     "grade_id": "cell-64eaa83780f5eac9",
     "locked": false,
     "points": 0,
     "schema_version": 1,
     "solution": true
    }
   },
   "outputs": [
    {
     "name": "stdout",
     "output_type": "stream",
     "text": [
      "Found 23750 images belonging to 2 classes.\n",
      "Found 1250 images belonging to 2 classes.\n"
     ]
    }
   ],
   "source": [
    "model = load_model('trans_learning_full.h5')\n",
    "\n",
    "train_generator_full = get_data_generator(train_data_path)\n",
    "val_generator_full = get_data_generator(val_data_path)"
   ]
  },
  {
   "cell_type": "markdown",
   "metadata": {
    "deletable": false,
    "editable": false,
    "nbgrader": {
     "checksum": "e7ae11154dee1b18040a35a6990ed284",
     "grade": false,
     "grade_id": "cell-f3f79586de42561b",
     "locked": true,
     "schema_version": 1,
     "solution": false
    }
   },
   "source": [
    "Create the callbacks you would like to use and train your model. This optimization might take a long time, so TensorBoard is advised ;)."
   ]
  },
  {
   "cell_type": "code",
   "execution_count": 56,
   "metadata": {
    "deletable": false,
    "nbgrader": {
     "checksum": "bad26172f9b786e6209e418f1ace058e",
     "grade": true,
     "grade_id": "cell-c7dd71a632b5f152",
     "locked": false,
     "points": 2,
     "schema_version": 1,
     "solution": true
    }
   },
   "outputs": [
    {
     "name": "stdout",
     "output_type": "stream",
     "text": [
      "Epoch 1/30\n",
      "156/156 [==============================] - 34s 219ms/step - loss: 0.4796 - acc: 0.8523 - val_loss: 0.4546 - val_acc: 0.8752\n",
      "Epoch 2/30\n",
      "156/156 [==============================] - 29s 184ms/step - loss: 0.5305 - acc: 0.8365 - val_loss: 0.4118 - val_acc: 0.8792\n",
      "Epoch 3/30\n",
      "156/156 [==============================] - 29s 186ms/step - loss: 0.5333 - acc: 0.8389 - val_loss: 0.3925 - val_acc: 0.8872\n",
      "Epoch 4/30\n",
      "156/156 [==============================] - 29s 186ms/step - loss: 0.4962 - acc: 0.8413 - val_loss: 0.4190 - val_acc: 0.8832\n",
      "Epoch 5/30\n",
      "Epoch 4/30\n",
      "156/156 [==============================] - 29s 185ms/step - loss: 0.4803 - acc: 0.8510 - val_loss: 0.4111 - val_acc: 0.8816\n",
      "Epoch 6/30\n",
      "Epoch 5/30\n",
      "156/156 [==============================] - 29s 186ms/step - loss: 0.4891 - acc: 0.8357 - val_loss: 0.4027 - val_acc: 0.8824\n",
      "Epoch 7/30\n",
      "156/156 [==============================] - 29s 185ms/step - loss: 0.4435 - acc: 0.8550 - val_loss: 0.3904 - val_acc: 0.8848\n",
      "Epoch 8/30\n",
      "156/156 [==============================] - 29s 185ms/step - loss: 0.4505 - acc: 0.8574 - val_loss: 0.3752 - val_acc: 0.8952\n",
      "Epoch 9/30\n",
      "156/156 [==============================] - 29s 185ms/step - loss: 0.5073 - acc: 0.8494 - val_loss: 0.3979 - val_acc: 0.8816\n",
      "Epoch 10/30\n",
      "156/156 [==============================] - 29s 186ms/step - loss: 0.3971 - acc: 0.8638 - val_loss: 0.3589 - val_acc: 0.8904\n",
      "Epoch 11/30\n",
      "156/156 [==============================] - 29s 186ms/step - loss: 0.4152 - acc: 0.8662 - val_loss: 0.3601 - val_acc: 0.8904\n",
      "Epoch 12/30\n",
      "156/156 [==============================] - 29s 186ms/step - loss: 0.4361 - acc: 0.8630 - val_loss: 0.3595 - val_acc: 0.8888\n",
      "Epoch 12/30\n",
      "Epoch 13/30\n",
      "156/156 [==============================] - 29s 186ms/step - loss: 0.4676 - acc: 0.8373 - val_loss: 0.3470 - val_acc: 0.8928\n",
      "Epoch 14/30\n",
      "156/156 [==============================] - 29s 185ms/step - loss: 0.4129 - acc: 0.8670 - val_loss: 0.3539 - val_acc: 0.8880\n",
      "Epoch 15/30\n",
      "156/156 [==============================] - 29s 186ms/step - loss: 0.4670 - acc: 0.8470 - val_loss: 0.3426 - val_acc: 0.8912\n",
      "Epoch 16/30\n",
      "Epoch 15/30\n",
      "156/156 [==============================] - 29s 186ms/step - loss: 0.4598 - acc: 0.8630 - val_loss: 0.3300 - val_acc: 0.8960\n",
      "Epoch 17/30\n",
      "156/156 [==============================] - 29s 186ms/step - loss: 0.4595 - acc: 0.8542 - val_loss: 0.3402 - val_acc: 0.8928\n",
      "\n",
      "Epoch 18/30\n",
      "156/156 [==============================] - 29s 185ms/step - loss: 0.4458 - acc: 0.8590 - val_loss: 0.3652 - val_acc: 0.8816\n",
      "\n",
      "Epoch 19/30\n",
      "156/156 [==============================] - 29s 184ms/step - loss: 0.4607 - acc: 0.8454 - val_loss: 0.3543 - val_acc: 0.8920\n",
      "Epoch 19/30\n",
      "Epoch 20/30\n",
      "156/156 [==============================] - 29s 187ms/step - loss: 0.3334 - acc: 0.8822 - val_loss: 0.3629 - val_acc: 0.8936\n",
      "Epoch 21/30\n",
      "156/156 [==============================] - 29s 186ms/step - loss: 0.4268 - acc: 0.8526 - val_loss: 0.3360 - val_acc: 0.8960\n",
      "Epoch 21/30\n",
      "Epoch 22/30\n",
      "156/156 [==============================] - 29s 185ms/step - loss: 0.4014 - acc: 0.8702 - val_loss: 0.3417 - val_acc: 0.8992\n",
      "Epoch 23/30\n",
      "156/156 [==============================] - 29s 186ms/step - loss: 0.3705 - acc: 0.8654 - val_loss: 0.3267 - val_acc: 0.9008\n",
      "Epoch 24/30\n",
      "156/156 [==============================] - 29s 186ms/step - loss: 0.3851 - acc: 0.8638 - val_loss: 0.3256 - val_acc: 0.9016\n",
      "Epoch 25/30\n",
      "156/156 [==============================] - 29s 185ms/step - loss: 0.3915 - acc: 0.8678 - val_loss: 0.3402 - val_acc: 0.8920\n",
      "Epoch 30/30\n",
      "156/156 [==============================] - 29s 184ms/step - loss: 0.4197 - acc: 0.8678 - val_loss: 0.3276 - val_acc: 0.8984\n"
     ]
    }
   ],
   "source": [
    "batch_size = 8\n",
    "\n",
    "callbacks_full = [\n",
    "    TensorBoard(log_dir='./logs/vgg-final-full_{dt.utcnow().strftime(\"%y%m%d%H%M\")}'),\n",
    "    EarlyStopping(monitor='val_loss', \n",
    "                  min_delta=0.008,\n",
    "                  patience=10,\n",
    "                  verbose=1, \n",
    "                  mode='auto',\n",
    "                  baseline=None),\n",
    "]\n",
    "\n",
    "history_vgg_full = model.fit_generator(train_generator_full, epochs=30, verbose=1, \n",
    "                                            callbacks=callbacks_full, \n",
    "                                            validation_data=val_generator_full,\n",
    "                                            validation_steps= n_train// batch_size,\n",
    "                                            steps_per_epoch = n_val// batch_size,\n",
    "                                            workers=8, use_multiprocessing=True)"
   ]
  },
  {
   "cell_type": "markdown",
   "metadata": {
    "deletable": false,
    "editable": false,
    "nbgrader": {
     "checksum": "d0ab46f558fb4b49f877ca0bae45376b",
     "grade": false,
     "grade_id": "cell-b1861d3a543c6386",
     "locked": true,
     "schema_version": 1,
     "solution": false
    }
   },
   "source": [
    "How does the model perform now when trained on the entire dataset, compared to when only trained on the smaller subset of data? Create one plot with the training accuracy and another with the validation accuracy of the two scenarios."
   ]
  },
  {
   "cell_type": "code",
   "execution_count": 62,
   "metadata": {
    "deletable": false,
    "nbgrader": {
     "checksum": "52bacfa672fbc7eca004c87d041e3411",
     "grade": true,
     "grade_id": "cell-ceaac6be60ce36a9",
     "locked": false,
     "points": 0,
     "schema_version": 1,
     "solution": true
    }
   },
   "outputs": [
    {
     "data": {
      "image/png": "[encoded data removed]",
      "text/plain": [
       "<Figure size 1152x432 with 2 Axes>"
      ]
     },
     "metadata": {},
     "output_type": "display_data"
    }
   ],
   "source": [
    "f, (ax1, ax2) = plt.subplots(1, 2, sharey=True)\n",
    "ax2.yaxis.set_tick_params(labelleft=True)\n",
    "f.suptitle('Final model: accuracy before/after training on full data set')\n",
    "plot_histories(ax1, {'Full data set (after)': history_vgg_full, 'Smaller data set (before)': history_vgg}, 'Training accuracy', 'acc')\n",
    "plot_histories(ax2, {'Full data set (after)': history_vgg_full, 'Smaller data set (before)': history_vgg}, 'Validation accuracy', 'val_acc')\n",
    "plt.show()"
   ]
  },
  {
   "cell_type": "markdown",
   "metadata": {
    "deletable": false,
    "editable": false,
    "nbgrader": {
     "checksum": "fa3d1d443f52a1489ac198ca29ddd0c9",
     "grade": false,
     "grade_id": "cell-b38092b08c150e7d",
     "locked": true,
     "schema_version": 1,
     "solution": false
    }
   },
   "source": [
    "What can you conclude from these plots?"
   ]
  },
  {
   "cell_type": "markdown",
   "metadata": {
    "deletable": false,
    "nbgrader": {
     "checksum": "3a4a7b569af9834b505cc8d5daffb2d1",
     "grade": true,
     "grade_id": "cell-694a3fbb7f081da8",
     "locked": false,
     "points": 1,
     "schema_version": 1,
     "solution": true
    }
   },
   "source": [
    "**Your answer:** (fill in here)"
   ]
  },
  {
   "cell_type": "markdown",
   "metadata": {
    "deletable": false,
    "editable": false,
    "nbgrader": {
     "checksum": "da9293dc623b91059c547544b509ad7b",
     "grade": false,
     "grade_id": "cell-5e1ddfbfceb4d194",
     "locked": true,
     "schema_version": 1,
     "solution": false
    }
   },
   "source": [
    "## 7. Evaluation on test set"
   ]
  },
  {
   "cell_type": "markdown",
   "metadata": {
    "deletable": false,
    "editable": false,
    "nbgrader": {
     "checksum": "cd96692057f0be0c7cb1e9c2769f0991",
     "grade": false,
     "grade_id": "cell-a97630bf5d85363f",
     "locked": true,
     "schema_version": 1,
     "solution": false
    }
   },
   "source": [
    "Now we'll evaluate your final model, obtained in step 6, on the test set. As mentioned before, the samples in the test set are not labeled, so we can't compute any performance metrics ourselves. Instead, we'll create a .csv file containing the predictions for each sample, and submit it to Kaggle for evaluation."
   ]
  },
  {
   "cell_type": "markdown",
   "metadata": {
    "deletable": false,
    "editable": false,
    "nbgrader": {
     "checksum": "891007ea6b998a0bfd810187d1e87208",
     "grade": false,
     "grade_id": "cell-96a8fded54ed7011",
     "locked": true,
     "schema_version": 1,
     "solution": false
    }
   },
   "source": [
    "Compute the predictions for all samples in the test set according to your best model, and save it in a .csv file with the format expected by the competition.\n",
    "\n",
    "Tip:\n",
    "- There is a sample_submission file available for download in the same place where you downloaded the data from. Take a look at it to better understand what is the expected format here.\n",
    "\n",
    "Hints:\n",
    "- The Python module `os` has a `listdir` function, which returns the filenames of all files in a given path.\n",
    "- If you don't know how to create and write to files with Python, Google can help.\n",
    "- Keras has a submodule called `preprocessing.image`, with some handy functions (for instance `load_img` and `img_to_array`)"
   ]
  },
  {
   "cell_type": "code",
   "execution_count": 63,
   "metadata": {
    "deletable": false,
    "nbgrader": {
     "checksum": "e235a9ab5690a066143575414247f751",
     "grade": true,
     "grade_id": "cell-cc77ac7849f856e1",
     "locked": false,
     "points": 0,
     "schema_version": 1,
     "solution": true
    }
   },
   "outputs": [
    {
     "name": "stdout",
     "output_type": "stream",
     "text": [
      "Evaluation...\n",
      "0 / 12500\n",
      "100 / 12500\n",
      "200 / 12500\n",
      "300 / 12500\n",
      "400 / 12500\n",
      "500 / 12500\n",
      "600 / 12500\n",
      "700 / 12500\n",
      "800 / 12500\n",
      "900 / 12500\n",
      "1000 / 12500\n",
      "1100 / 12500\n",
      "1200 / 12500\n",
      "1300 / 12500\n",
      "1400 / 12500\n",
      "1500 / 12500\n",
      "1600 / 12500\n",
      "1700 / 12500\n",
      "1800 / 12500\n",
      "1900 / 12500\n",
      "2000 / 12500\n",
      "2100 / 12500\n",
      "2200 / 12500\n",
      "2300 / 12500\n",
      "2400 / 12500\n",
      "2500 / 12500\n",
      "2600 / 12500\n",
      "2700 / 12500\n",
      "2800 / 12500\n",
      "2900 / 12500\n",
      "3000 / 12500\n",
      "3100 / 12500\n",
      "3200 / 12500\n",
      "3300 / 12500\n",
      "3400 / 12500\n",
      "3500 / 12500\n",
      "3600 / 12500\n",
      "3700 / 12500\n",
      "3800 / 12500\n",
      "3900 / 12500\n",
      "4000 / 12500\n",
      "4100 / 12500\n",
      "4200 / 12500\n",
      "4300 / 12500\n",
      "4400 / 12500\n",
      "4500 / 12500\n",
      "4600 / 12500\n",
      "4700 / 12500\n",
      "4800 / 12500\n",
      "4900 / 12500\n",
      "5000 / 12500\n",
      "5100 / 12500\n",
      "5200 / 12500\n",
      "5300 / 12500\n",
      "5400 / 12500\n",
      "5500 / 12500\n",
      "5600 / 12500\n",
      "5700 / 12500\n",
      "5800 / 12500\n",
      "5900 / 12500\n",
      "6000 / 12500\n",
      "6100 / 12500\n",
      "6200 / 12500\n",
      "6300 / 12500\n",
      "6400 / 12500\n",
      "6500 / 12500\n",
      "6600 / 12500\n",
      "6700 / 12500\n",
      "6800 / 12500\n",
      "6900 / 12500\n",
      "7000 / 12500\n",
      "7100 / 12500\n",
      "7200 / 12500\n",
      "7300 / 12500\n",
      "7400 / 12500\n",
      "7500 / 12500\n",
      "7600 / 12500\n",
      "7700 / 12500\n",
      "7800 / 12500\n",
      "7900 / 12500\n",
      "8000 / 12500\n",
      "8100 / 12500\n",
      "8200 / 12500\n",
      "8300 / 12500\n",
      "8400 / 12500\n",
      "8500 / 12500\n",
      "8600 / 12500\n",
      "8700 / 12500\n",
      "8800 / 12500\n",
      "8900 / 12500\n",
      "9000 / 12500\n",
      "9100 / 12500\n",
      "9200 / 12500\n",
      "9300 / 12500\n",
      "9400 / 12500\n",
      "9500 / 12500\n",
      "9600 / 12500\n",
      "9700 / 12500\n",
      "9800 / 12500\n",
      "9900 / 12500\n",
      "10000 / 12500\n",
      "10100 / 12500\n",
      "10200 / 12500\n",
      "10300 / 12500\n",
      "10400 / 12500\n",
      "10500 / 12500\n",
      "10600 / 12500\n",
      "10700 / 12500\n",
      "10800 / 12500\n",
      "10900 / 12500\n",
      "11000 / 12500\n",
      "11100 / 12500\n",
      "11200 / 12500\n",
      "11300 / 12500\n",
      "11400 / 12500\n",
      "11500 / 12500\n",
      "11600 / 12500\n",
      "11700 / 12500\n",
      "11800 / 12500\n",
      "11900 / 12500\n",
      "12000 / 12500\n",
      "12100 / 12500\n",
      "12200 / 12500\n",
      "12300 / 12500\n",
      "12400 / 12500\n",
      "Done\n",
      "Saving results to Jaquier_Karypidis predictions.csv\n"
     ]
    }
   ],
   "source": [
    "# The following code was partially inspired from \n",
    "# https://www.programcreek.com/python/example/89223/keras.preprocessing.image.load_img\"\n",
    "test_dir = './test'\n",
    "image_list = os.listdir(test_dir)\n",
    "all_img_prediction = list()\n",
    "i = 0\n",
    "test_batch_size = 1\n",
    "n_images = len(image_list)# (range(1,12504))\n",
    "print(\"Evaluation...\")\n",
    "while i < n_images:\n",
    "    if i % 100 == 0:\n",
    "        print(i, \"/\", n_images)\n",
    "    batch_img = image_list[i:i+test_batch_size]\n",
    "    i += test_batch_size\n",
    "    imgs = []\n",
    "    for imgf in batch_img:\n",
    "        img_path = os.path.join(test_dir, imgf)\n",
    "        img = image.load_img(img_path, target_size=(img_w, img_h))\n",
    "        x = image.img_to_array(img)\n",
    "        x = np.expand_dims(x, axis=0)\n",
    "        x = vgg16.preprocess_input(x)\n",
    "        imgs.append(x)\n",
    "    imgs = np.concatenate(imgs, axis=0)\n",
    "    prediction = model.predict(imgs)\n",
    "    all_img_prediction.append(prediction)\n",
    "    \n",
    "print(\"Done\")\n",
    "all_img_prediction = [int(item) for item in all_img_prediction]\n",
    "data = {'id': list(range(1, len(all_img_prediction)+1)), 'label': all_img_prediction}\n",
    "df = pd.DataFrame(data=data)\n",
    "\n",
    "results_filename = 'Jaquier_Karypidis predictions.csv'\n",
    "print(\"Saving results to\", results_filename)\n",
    "df.to_csv(results_filename, sep=',',index = False)"
   ]
  },
  {
   "cell_type": "markdown",
   "metadata": {
    "deletable": false,
    "editable": false,
    "nbgrader": {
     "checksum": "1e57b252395ed2657e8f39a69dbf4248",
     "grade": false,
     "grade_id": "cell-faf8664f26ff7f4e",
     "locked": true,
     "schema_version": 1,
     "solution": false
    }
   },
   "source": [
    "Now that you created your submission file, submit it to Kaggle for evaluation. The [old competition](https://www.kaggle.com/c/dogs-vs-cats) does not allow submissions any more, so submit your file to the [new one](https://www.kaggle.com/c/dogs-vs-cats-redux-kernels-edition). Kaggle evaluates your submission according to your log-loss score. Which score did you obtain?"
   ]
  },
  {
   "cell_type": "markdown",
   "metadata": {
    "deletable": false,
    "nbgrader": {
     "checksum": "e4a90a8a13658eeb9af3ad05c63220de",
     "grade": true,
     "grade_id": "cell-e951dcec64dec85d",
     "locked": false,
     "points": 2,
     "schema_version": 1,
     "solution": true
    }
   },
   "source": [
    "**Your answer:** (fill in here)"
   ]
  },
  {
   "cell_type": "markdown",
   "metadata": {
    "deletable": false,
    "editable": false,
    "nbgrader": {
     "checksum": "e8a7f3a8236f43994efe29067d7237c2",
     "grade": false,
     "grade_id": "cell-dc362abcfef32eae",
     "locked": true,
     "schema_version": 1,
     "solution": false
    }
   },
   "source": [
    "What was the username you used for this submission?"
   ]
  },
  {
   "cell_type": "markdown",
   "metadata": {
    "deletable": false,
    "nbgrader": {
     "checksum": "8cc61665c676edcd9192df3c15714aa3",
     "grade": true,
     "grade_id": "cell-d519532bb1f957c3",
     "locked": false,
     "points": 0,
     "schema_version": 1,
     "solution": true
    }
   },
   "source": [
    "**Your answer:** (fill in here)"
   ]
  }
 ],
 "metadata": {
  "kernelspec": {
   "display_name": "Python 3",
   "language": "python",
   "name": "python3"
  },
  "language_info": {
   "codemirror_mode": {
    "name": "ipython",
    "version": 3
   },
   "file_extension": ".py",
   "mimetype": "text/x-python",
   "name": "python",
   "nbconvert_exporter": "python",
   "pygments_lexer": "ipython3",
   "version": "3.6.6"
  }
 },
 "nbformat": 4,
 "nbformat_minor": 2
}
